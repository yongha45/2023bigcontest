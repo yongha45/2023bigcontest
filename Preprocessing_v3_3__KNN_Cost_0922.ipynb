{
 "cells": [
  {
   "cell_type": "markdown",
   "metadata": {},
   "source": [
    "# BOF"
   ]
  },
  {
   "cell_type": "code",
   "execution_count": 1,
   "metadata": {},
   "outputs": [
    {
     "name": "stdout",
     "output_type": "stream",
     "text": [
      "/Users/baesangjun/Desktop/DACON/빅콘/Before Model\n"
     ]
    }
   ],
   "source": [
    "import os\n",
    "print(os.getcwd())\n",
    "import gc\n",
    "gc.collect()\n",
    "\n",
    "import warnings\n",
    "warnings.filterwarnings(action='ignore') # 'default'\n",
    "\n",
    "import gc\n",
    "gc.collect()\n",
    "\n",
    "import pandas as pd\n",
    "import numpy as np\n",
    "\n",
    "import pickle\n",
    "\n",
    "import matplotlib.pyplot as plt\n",
    "import seaborn as sns\n",
    "\n",
    "from tqdm import tqdm\n",
    "from tqdm import tqdm_notebook\n",
    "\n",
    "from sklearn.preprocessing import MinMaxScaler\n",
    "from sklearn.neighbors import KNeighborsClassifier\n",
    "\n",
    "from sklearn.metrics import confusion_matrix, classification_report\n",
    "from sklearn.metrics import accuracy_score\n",
    "\n",
    "import xgboost as xgb\n",
    "from sklearn.preprocessing import LabelEncoder\n",
    "import math\n",
    "from sklearn.model_selection import train_test_split\n",
    "\n",
    "from matplotlib import rc\n",
    "rc('font', family='AppleGothic')\n",
    "plt.rcParams['axes.unicode_minus'] = False\n",
    "\n",
    "\n",
    "from sklearn.linear_model import LogisticRegression\n",
    "from sklearn.model_selection import train_test_split\n",
    "from sklearn.metrics import accuracy_score\n",
    "\n",
    "\n",
    "np.random.seed(1234)"
   ]
  },
  {
   "cell_type": "code",
   "execution_count": 2,
   "metadata": {},
   "outputs": [],
   "source": [
    "import pandas as pd\n",
    "import numpy as np\n",
    "\n",
    "import pickle\n",
    "\n",
    "import matplotlib.pyplot as plt\n",
    "import seaborn as sns\n",
    "\n",
    "from tqdm import tqdm\n",
    "from tqdm import tqdm_notebook\n",
    "\n",
    "from sklearn.preprocessing import MinMaxScaler\n",
    "from sklearn.neighbors import KNeighborsClassifier"
   ]
  },
  {
   "cell_type": "markdown",
   "metadata": {},
   "source": [
    "# Update data_v3_2_xy"
   ]
  },
  {
   "cell_type": "code",
   "execution_count": 3,
   "metadata": {},
   "outputs": [],
   "source": [
    "data0 = pd.read_csv('data_v3_2_xy.csv')"
   ]
  },
  {
   "cell_type": "code",
   "execution_count": 4,
   "metadata": {},
   "outputs": [
    {
     "data": {
      "text/plain": [
       "(1051394, 41)"
      ]
     },
     "execution_count": 4,
     "metadata": {},
     "output_type": "execute_result"
    }
   ],
   "source": [
    "data0.shape"
   ]
  },
  {
   "cell_type": "markdown",
   "metadata": {},
   "source": [
    "## dc"
   ]
  },
  {
   "cell_type": "code",
   "execution_count": 5,
   "metadata": {},
   "outputs": [],
   "source": [
    "data0['public'] = 0\n",
    "public_dc = ['단원할인','국립합창단유료회원할인','KLang할인','KBS교향악단후원회원할인','KOSYMI할인','심포니회원할인']\n",
    "public_id = data0.loc[data0['dc'].isin(public_dc),'id'].unique()\n",
    "data0.loc[data0.id.isin(public_id),'public'] = 1\n",
    "\n",
    "data0['agency'] = 0\n",
    "agency_id = data0.loc[data0['dc']=='기획사할인','id'].unique()\n",
    "data0.loc[data0.id.isin(agency_id),'public'] = 1\n",
    "\n",
    "data0.insert(10, 'agency', data0.pop('agency'))\n",
    "data0.insert(10, 'public', data0.pop('public'))"
   ]
  },
  {
   "cell_type": "markdown",
   "metadata": {},
   "source": [
    "## Sector"
   ]
  },
  {
   "cell_type": "code",
   "execution_count": 6,
   "metadata": {},
   "outputs": [],
   "source": [
    "data0['sector'] = data0['block']\n",
    "data0['sector'] = data0['sector'].combine_first(data0['box'])\n",
    "\n",
    "box_map = {\n",
    "    1:'a',\n",
    "    2:'b',\n",
    "    3:'c',\n",
    "    4:'d',\n",
    "    5:'e',\n",
    "    6:'f',\n",
    "    7:'g',\n",
    "    8:'h',\n",
    "    9:'i',\n",
    "    10:'j',\n",
    "    11:'k',\n",
    "    12:'l'\n",
    "}\n",
    "\n",
    "data0['sector'] = data0['sector'].replace(box_map)\n",
    "data0.insert(2, 'sector', data0.pop('sector'))"
   ]
  },
  {
   "cell_type": "code",
   "execution_count": 7,
   "metadata": {},
   "outputs": [],
   "source": [
    "# 공연진행석\n",
    "out = ['1층 A블록15열 9','1층 A블록15열 10','1층 A블록15열 11','1층 A블록15열 12',\n",
    "       '1층 B블록15열 12','1층 B블록15열 13',\n",
    "       '1층 C블록13열 1','1층 C블록13열 2','1층 C블록13열 3','1층 C블록13열 4','1층 C블록13열 5','1층 C블록13열 6',\n",
    "       '2층 A블록8열 12','2층 A블록8열 13','2층 E블록8열 13','2층 E블록8열 12',\n",
    "       '2층 C블록7열 1','2층 C블록7열 2','2층 C블록7열 12','2층 C블록7열 13']\n",
    "ps = data0[data0.seat.isin(out)]\n",
    "data0 = data0[~data0.seat.isin(out)]\n",
    "\n",
    "# 휠체어석\n",
    "out = ['1층 C블록22열 1','1층 C블록22열 2','1층 C블록22열 3','1층 C블록22열 4','1층 C블록22열 5','1층 C블록22열 6','1층 C블록22열 7','1층 C블록22열 8',\n",
    "       '2층 A블록8열 1','2층 A블록8열 2','2층 A블록8열 3','2층 A블록8열 4','2층 A블록8열 5','2층 A블록8열 6','2층 A블록8열 7','2층 A블록8열 8',\n",
    "       '2층 E블록8열 1','2층 E블록8열 2','2층 E블록8열 3','2층 E블록8열 4','2층 E블록8열 5','2층 E블록8열 6','2층 E블록8열 7','2층 E블록8열 8']\n",
    "ws = data0[data0.seat.isin(out)]\n",
    "data0 = data0[~data0.seat.isin(out)]\n",
    "\n",
    "pws = pd.concat([ps,ws], axis=0, ignore_index=True)"
   ]
  },
  {
   "cell_type": "code",
   "execution_count": 8,
   "metadata": {},
   "outputs": [
    {
     "data": {
      "text/plain": [
       "2465"
      ]
     },
     "execution_count": 8,
     "metadata": {},
     "output_type": "execute_result"
    }
   ],
   "source": [
    "data0.seat.nunique()"
   ]
  },
  {
   "cell_type": "code",
   "execution_count": 9,
   "metadata": {},
   "outputs": [],
   "source": [
    "# floor 2 box 1, 6\n",
    "cond = (data0['floor']==2) & (data0['box'].isin([1,6])) & (data0['seat_num'].isin([1,2]))\n",
    "data0.loc[cond,'col'] = 1\n",
    "\n",
    "cond = (data0['floor']==2) & (data0['box'].isin([1,6])) & (data0['seat_num'].isin([3,4]))\n",
    "data0.loc[cond,'col'] = 2\n",
    "\n",
    "cond = (data0['floor']==2) & (data0['box'].isin([1,6])) & (data0['seat_num'].isin([5,6]))\n",
    "data0.loc[cond,'col'] = 3\n",
    "\n",
    "# floor 2 box 2, 5\n",
    "cond = (data0['floor']==2) & (data0['box'].isin([2,5])) & (data0['seat_num'].isin([1,2]))\n",
    "data0.loc[cond,'col'] = 1\n",
    "\n",
    "cond = (data0['floor']==2) & (data0['box'].isin([2,5])) & (data0['seat_num'].isin([3,4]))\n",
    "data0.loc[cond,'col'] = 2\n",
    "\n",
    "cond = (data0['floor']==2) & (data0['box'].isin([2,5])) & (data0['seat_num'].isin([5,6]))\n",
    "data0.loc[cond,'col'] = 3\n",
    "\n",
    "cond = (data0['floor']==2) & (data0['box'].isin([2,5])) & (data0['seat_num'].isin([7,8]))\n",
    "data0.loc[cond,'col'] = 4\n",
    "\n",
    "# floor 2 box 3, 4\n",
    "cond = (data0['floor']==2) & (data0['box'].isin([3,4])) & (data0['seat_num'].isin([1,2]))\n",
    "data0.loc[cond,'col'] = 1\n",
    "\n",
    "cond = (data0['floor']==2) & (data0['box'].isin([3,4])) & (data0['seat_num'].isin([3,4]))\n",
    "data0.loc[cond,'col'] = 2\n",
    "\n",
    "cond = (data0['floor']==2) & (data0['box'].isin([3,4])) & (data0['seat_num'].isin([5,6]))\n",
    "data0.loc[cond,'col'] = 3\n",
    "\n",
    "cond = (data0['floor']==2) & (data0['box'].isin([3,4])) & (data0['seat_num'].isin([7,8]))\n",
    "data0.loc[cond,'col'] = 4\n",
    "\n",
    "cond = (data0['floor']==2) & (data0['box'].isin([3,4])) & (data0['seat_num'].isin([9,10]))\n",
    "data0.loc[cond,'col'] = 5\n",
    "\n",
    "# floor 3 box 7, 12\n",
    "cond = (data0['floor']==3) & (data0['box'].isin([7,12])) & (data0['seat_num'].isin([1,2,3]))\n",
    "data0.loc[cond,'col'] = 1\n",
    "\n",
    "cond = (data0['floor']==3) & (data0['box'].isin([7,12])) & (data0['seat_num'].isin([4,5,6]))\n",
    "data0.loc[cond,'col'] = 2\n",
    "\n",
    "# floor 3 box 8, 11\n",
    "cond = (data0['floor']==3) & (data0['box'].isin([8,11])) & (data0['seat_num'].isin([1,2,3]))\n",
    "data0.loc[cond,'col'] = 1\n",
    "\n",
    "cond = (data0['floor']==3) & (data0['box'].isin([8,11])) & (data0['seat_num'].isin([4,5,6]))\n",
    "data0.loc[cond,'col'] = 2\n",
    "\n",
    "cond = (data0['floor']==3) & (data0['box'].isin([8,11])) & (data0['seat_num'].isin([7,8,9]))\n",
    "data0.loc[cond,'col'] = 3\n",
    "\n",
    "# floor 3 box 9, 10\n",
    "cond = (data0['floor']==3) & (data0['box'].isin([9,10])) & (data0['seat_num'].isin([1,2,3]))\n",
    "data0.loc[cond,'col'] = 1\n",
    "\n",
    "cond = (data0['floor']==3) & (data0['box'].isin([9,10])) & (data0['seat_num'].isin([4,5,6]))\n",
    "data0.loc[cond,'col'] = 2\n",
    "\n",
    "cond = (data0['floor']==3) & (data0['box'].isin([9,10])) & (data0['seat_num'].isin([7,8,9]))\n",
    "data0.loc[cond,'col'] = 3\n",
    "\n",
    "cond = (data0['floor']==3) & (data0['box'].isin([9,10])) & (data0['seat_num'].isin([10,11,12]))\n",
    "data0.loc[cond,'col'] = 4"
   ]
  },
  {
   "cell_type": "code",
   "execution_count": 10,
   "metadata": {},
   "outputs": [],
   "source": [
    "data0 = data0.drop(columns=['box','block'])"
   ]
  },
  {
   "cell_type": "code",
   "execution_count": 11,
   "metadata": {},
   "outputs": [],
   "source": [
    "data0.to_csv('data_v4_0.csv', index=False)"
   ]
  },
  {
   "cell_type": "markdown",
   "metadata": {},
   "source": [
    "## Ratio of NA in cost and dc"
   ]
  },
  {
   "cell_type": "code",
   "execution_count": 12,
   "metadata": {},
   "outputs": [],
   "source": [
    "cnr = data0.groupby('id')[['cost']].apply(lambda x: x.isna().sum() / len(x))\\\n",
    "    .rename(columns={'cost':'cnr'}).reset_index(drop=False)"
   ]
  },
  {
   "cell_type": "code",
   "execution_count": 13,
   "metadata": {},
   "outputs": [
    {
     "data": {
      "text/plain": [
       "(731, 2)"
      ]
     },
     "execution_count": 13,
     "metadata": {},
     "output_type": "execute_result"
    }
   ],
   "source": [
    "cnr.shape"
   ]
  },
  {
   "cell_type": "markdown",
   "metadata": {},
   "source": [
    "### cnr1 : na_ratio=1"
   ]
  },
  {
   "cell_type": "code",
   "execution_count": 14,
   "metadata": {},
   "outputs": [
    {
     "name": "stdout",
     "output_type": "stream",
     "text": [
      "8.207934336525307\n"
     ]
    }
   ],
   "source": [
    "cnr1 = cnr[cnr['cnr']==1]\n",
    "cnr = cnr[~cnr['id'].isin(cnr1.id)]  # update\n",
    "\n",
    "print(100*(cnr1.shape[0]/731))"
   ]
  },
  {
   "cell_type": "code",
   "execution_count": 15,
   "metadata": {},
   "outputs": [
    {
     "data": {
      "text/html": [
       "<div>\n",
       "<style scoped>\n",
       "    .dataframe tbody tr th:only-of-type {\n",
       "        vertical-align: middle;\n",
       "    }\n",
       "\n",
       "    .dataframe tbody tr th {\n",
       "        vertical-align: top;\n",
       "    }\n",
       "\n",
       "    .dataframe thead th {\n",
       "        text-align: right;\n",
       "    }\n",
       "</style>\n",
       "<table border=\"1\" class=\"dataframe\">\n",
       "  <thead>\n",
       "    <tr style=\"text-align: right;\">\n",
       "      <th></th>\n",
       "      <th>nuni</th>\n",
       "    </tr>\n",
       "    <tr>\n",
       "      <th>id</th>\n",
       "      <th></th>\n",
       "    </tr>\n",
       "  </thead>\n",
       "  <tbody>\n",
       "    <tr>\n",
       "      <th>898_2020-11-25</th>\n",
       "      <td>2</td>\n",
       "    </tr>\n",
       "  </tbody>\n",
       "</table>\n",
       "</div>"
      ],
      "text/plain": [
       "                nuni\n",
       "id                  \n",
       "898_2020-11-25     2"
      ]
     },
     "execution_count": 15,
     "metadata": {},
     "output_type": "execute_result"
    }
   ],
   "source": [
    "data0[data0['id'].isin(cnr1.id)].groupby('id')[['dc']].nunique()\\\n",
    "    .rename(columns={'dc':'nuni'})\\\n",
    "        .pipe(lambda df:df[df['nuni']>1])"
   ]
  },
  {
   "cell_type": "code",
   "execution_count": 16,
   "metadata": {},
   "outputs": [
    {
     "data": {
      "text/plain": [
       "dc\n",
       "초대권할인    0.974034\n",
       "카드할인     0.025957\n",
       "차액할인     0.000009\n",
       "dtype: float64"
      ]
     },
     "execution_count": 16,
     "metadata": {},
     "output_type": "execute_result"
    }
   ],
   "source": [
    "data0[data0['id'].isin(cnr1.id)].value_counts('dc', normalize=True)"
   ]
  },
  {
   "cell_type": "code",
   "execution_count": 17,
   "metadata": {},
   "outputs": [],
   "source": [
    "data0.loc[data0['id'].isin(cnr1.id),'dc'] = '초대권할인'"
   ]
  },
  {
   "cell_type": "code",
   "execution_count": 18,
   "metadata": {},
   "outputs": [
    {
     "data": {
      "text/plain": [
       "dc\n",
       "초대권할인    1.0\n",
       "dtype: float64"
      ]
     },
     "execution_count": 18,
     "metadata": {},
     "output_type": "execute_result"
    }
   ],
   "source": [
    "data0[data0['id'].isin(cnr1.id)].value_counts('dc', normalize=True)"
   ]
  },
  {
   "cell_type": "markdown",
   "metadata": {},
   "source": [
    "### cnr2 : na_ratio in (0.9,1)"
   ]
  },
  {
   "cell_type": "code",
   "execution_count": 19,
   "metadata": {},
   "outputs": [
    {
     "name": "stdout",
     "output_type": "stream",
     "text": [
      "15.731874145006842\n"
     ]
    }
   ],
   "source": [
    "cnr2 = cnr[cnr['cnr']>0.9]\n",
    "cnr = cnr[~cnr['id'].isin(cnr2.id)]  # update\n",
    "\n",
    "print(100*(cnr2.shape[0]/731))"
   ]
  },
  {
   "cell_type": "code",
   "execution_count": 20,
   "metadata": {},
   "outputs": [
    {
     "data": {
      "text/plain": [
       "dc\n",
       "초대권할인          0.536901\n",
       "기획사할인          0.423592\n",
       "일반             0.014852\n",
       "골드할인           0.008589\n",
       "학생할인           0.002903\n",
       "당일할인           0.002396\n",
       "블루할인           0.002266\n",
       "장애인/국가유공자할인    0.002043\n",
       "그린할인           0.001908\n",
       "싹틔우미할인         0.001829\n",
       "조기예매할인         0.001145\n",
       "노블할인           0.000600\n",
       "단체할인           0.000293\n",
       "차액할인           0.000233\n",
       "후원회원할인         0.000140\n",
       "타임세일           0.000116\n",
       "경로할인           0.000051\n",
       "이벤트특별할인        0.000047\n",
       "교직원할인          0.000033\n",
       "가족할인           0.000028\n",
       "예술인할인          0.000023\n",
       "관계자할인          0.000009\n",
       "골드법인할인         0.000005\n",
       "dtype: float64"
      ]
     },
     "execution_count": 20,
     "metadata": {},
     "output_type": "execute_result"
    }
   ],
   "source": [
    "data0[data0['id'].isin(cnr2.id)].value_counts('dc', normalize=True)"
   ]
  },
  {
   "cell_type": "code",
   "execution_count": 21,
   "metadata": {},
   "outputs": [],
   "source": [
    "data0.loc[(data0['id'].isin(cnr2.id)) & \n",
    "          (data0['dc']!='기획사할인'),'dc'] = '초대권할인'"
   ]
  },
  {
   "cell_type": "code",
   "execution_count": 22,
   "metadata": {},
   "outputs": [
    {
     "data": {
      "text/plain": [
       "dc\n",
       "초대권할인    0.576408\n",
       "기획사할인    0.423592\n",
       "dtype: float64"
      ]
     },
     "execution_count": 22,
     "metadata": {},
     "output_type": "execute_result"
    }
   ],
   "source": [
    "data0[data0['id'].isin(cnr2.id)].value_counts('dc', normalize=True)"
   ]
  },
  {
   "cell_type": "markdown",
   "metadata": {},
   "source": [
    "### cnr3 : na_ratio in (0.8,0.9]"
   ]
  },
  {
   "cell_type": "code",
   "execution_count": 23,
   "metadata": {},
   "outputs": [
    {
     "name": "stdout",
     "output_type": "stream",
     "text": [
      "6.839945280437757\n"
     ]
    }
   ],
   "source": [
    "cnr3 = cnr[cnr['cnr']>0.8]\n",
    "cnr = cnr[~cnr['id'].isin(cnr3.id)]  # update\n",
    "\n",
    "print(100*(cnr3.shape[0]/731))"
   ]
  },
  {
   "cell_type": "code",
   "execution_count": 24,
   "metadata": {},
   "outputs": [
    {
     "data": {
      "text/plain": [
       "dc\n",
       "초대권할인          0.527342\n",
       "기획사할인          0.298803\n",
       "일반             0.054142\n",
       "골드할인           0.035802\n",
       "조기예매할인         0.020734\n",
       "블루할인           0.009549\n",
       "싹틔우미할인         0.008440\n",
       "장애인/국가유공자할인    0.008196\n",
       "당일할인           0.008075\n",
       "그린할인           0.008007\n",
       "학생할인           0.007818\n",
       "기업석            0.002719\n",
       "노블할인           0.001623\n",
       "카드할인           0.001271\n",
       "재관람할인          0.001190\n",
       "마니아할인          0.001150\n",
       "기타특별할인         0.000987\n",
       "차액할인           0.000839\n",
       "경로할인           0.000595\n",
       "가족할인           0.000514\n",
       "코로나할인          0.000392\n",
       "후원회원할인         0.000392\n",
       "예술인할인          0.000338\n",
       "예매권할인          0.000284\n",
       "단체할인           0.000271\n",
       "웰컴할인           0.000257\n",
       "문화릴레이할인        0.000162\n",
       "교직원할인          0.000108\n",
       "dtype: float64"
      ]
     },
     "execution_count": 24,
     "metadata": {},
     "output_type": "execute_result"
    }
   ],
   "source": [
    "data0[data0['id'].isin(cnr3.id)].value_counts('dc', normalize=True)"
   ]
  },
  {
   "cell_type": "code",
   "execution_count": 25,
   "metadata": {},
   "outputs": [],
   "source": [
    "data0.loc[(data0['id'].isin(cnr3.id)) & \n",
    "          (data0['dc']!='기획사할인'),'dc'] = '초대권할인'"
   ]
  },
  {
   "cell_type": "code",
   "execution_count": 26,
   "metadata": {},
   "outputs": [
    {
     "data": {
      "text/plain": [
       "dc\n",
       "초대권할인    0.701197\n",
       "기획사할인    0.298803\n",
       "dtype: float64"
      ]
     },
     "execution_count": 26,
     "metadata": {},
     "output_type": "execute_result"
    }
   ],
   "source": [
    "data0[data0['id'].isin(cnr3.id)].value_counts('dc', normalize=True)"
   ]
  },
  {
   "cell_type": "markdown",
   "metadata": {},
   "source": [
    "### cnr4: na_ratio=0"
   ]
  },
  {
   "cell_type": "code",
   "execution_count": 27,
   "metadata": {},
   "outputs": [
    {
     "name": "stdout",
     "output_type": "stream",
     "text": [
      "4.651162790697675\n"
     ]
    }
   ],
   "source": [
    "cnr4 = cnr[cnr['cnr']==0]\n",
    "cnr = cnr[~cnr['id'].isin(cnr4.id)]  # update\n",
    "\n",
    "print(100*(cnr4.shape[0]/731))"
   ]
  },
  {
   "cell_type": "markdown",
   "metadata": {},
   "source": [
    "### cnr : na_ratio in (0,0.8]"
   ]
  },
  {
   "cell_type": "code",
   "execution_count": 28,
   "metadata": {},
   "outputs": [
    {
     "data": {
      "text/plain": [
       "<Axes: xlabel='cnr', ylabel='Count'>"
      ]
     },
     "execution_count": 28,
     "metadata": {},
     "output_type": "execute_result"
    },
    {
     "data": {
      "image/png": "[encoded data removed]",
      "text/plain": [
       "<Figure size 640x480 with 1 Axes>"
      ]
     },
     "metadata": {},
     "output_type": "display_data"
    }
   ],
   "source": [
    "sns.histplot(x='cnr', data=cnr, bins=30)"
   ]
  },
  {
   "cell_type": "markdown",
   "metadata": {},
   "source": [
    "# KNN"
   ]
  },
  {
   "cell_type": "code",
   "execution_count": 29,
   "metadata": {},
   "outputs": [],
   "source": [
    "ddp = data0.drop_duplicates(subset=['id','seat'])"
   ]
  },
  {
   "cell_type": "code",
   "execution_count": 30,
   "metadata": {},
   "outputs": [],
   "source": [
    "data_knn = ddp.loc[ddp.id.isin(cnr.id),['id','floor','seat','sector','x','y','seat_rnk','cost']]\n",
    "data_not_knn = ddp.loc[~ddp.id.isin(cnr.id),['id','floor','seat','sector','x','y','seat_rnk','cost']]"
   ]
  },
  {
   "cell_type": "markdown",
   "metadata": {},
   "source": [
    "## data_knn_1 : knn_id [id_floor_sector]"
   ]
  },
  {
   "cell_type": "code",
   "execution_count": 31,
   "metadata": {},
   "outputs": [],
   "source": [
    "data_knn_1 = data_knn.copy()"
   ]
  },
  {
   "cell_type": "code",
   "execution_count": 32,
   "metadata": {},
   "outputs": [],
   "source": [
    "# knn_id : id_floor_sector\n",
    "data_knn_1['knn_id'] = data_knn_1['id'] + '_' + data_knn_1['floor'].astype(str) + '_' + data_knn_1['sector']\n",
    "data_knn_1.insert(0, 'knn_id', data_knn_1.pop('knn_id'))\n",
    "\n",
    "# target\n",
    "data_knn_1['target'] = np.nan\n",
    "cond = ~((data_knn_1['seat_rnk']=='N') | (data_knn_1['cost'].isna()))\n",
    "data_knn_1.loc[cond,'target'] = data_knn_1.loc[cond,'seat_rnk'] + '_' + data_knn_1.loc[cond,'cost'].astype(str)\n",
    "\n",
    "# na_ratio\n",
    "data_knn_1 = data_knn_1.groupby('knn_id')[['target']].apply(lambda x: x.isna().sum() / len(x))\\\n",
    "    .rename(columns={'target':'na_ratio'}).reset_index().merge(data_knn_1, how='right')"
   ]
  },
  {
   "cell_type": "code",
   "execution_count": 33,
   "metadata": {},
   "outputs": [],
   "source": [
    "data_good_1 = data_knn_1[data_knn_1['na_ratio']==0]\n",
    "\n",
    "data_knn_1 = data_knn_1[~data_knn_1['knn_id'].isin(data_good_1.knn_id)]"
   ]
  },
  {
   "cell_type": "code",
   "execution_count": 34,
   "metadata": {},
   "outputs": [
    {
     "data": {
      "text/html": [
       "<div>\n",
       "<style scoped>\n",
       "    .dataframe tbody tr th:only-of-type {\n",
       "        vertical-align: middle;\n",
       "    }\n",
       "\n",
       "    .dataframe tbody tr th {\n",
       "        vertical-align: top;\n",
       "    }\n",
       "\n",
       "    .dataframe thead th {\n",
       "        text-align: right;\n",
       "    }\n",
       "</style>\n",
       "<table border=\"1\" class=\"dataframe\">\n",
       "  <thead>\n",
       "    <tr style=\"text-align: right;\">\n",
       "      <th></th>\n",
       "      <th>knn_id</th>\n",
       "      <th>na_ratio</th>\n",
       "      <th>id</th>\n",
       "      <th>floor</th>\n",
       "      <th>seat</th>\n",
       "      <th>sector</th>\n",
       "      <th>x</th>\n",
       "      <th>y</th>\n",
       "      <th>seat_rnk</th>\n",
       "      <th>cost</th>\n",
       "      <th>target</th>\n",
       "    </tr>\n",
       "  </thead>\n",
       "  <tbody>\n",
       "    <tr>\n",
       "      <th>2</th>\n",
       "      <td>528_2019-03-23_1_A</td>\n",
       "      <td>0.019868</td>\n",
       "      <td>528_2019-03-23</td>\n",
       "      <td>1</td>\n",
       "      <td>1층 A블록2열 1</td>\n",
       "      <td>A</td>\n",
       "      <td>18.0</td>\n",
       "      <td>30.0</td>\n",
       "      <td>A</td>\n",
       "      <td>180000.0</td>\n",
       "      <td>A_180000.0</td>\n",
       "    </tr>\n",
       "    <tr>\n",
       "      <th>3</th>\n",
       "      <td>1528_2019-07-21_1_C</td>\n",
       "      <td>0.158879</td>\n",
       "      <td>1528_2019-07-21</td>\n",
       "      <td>1</td>\n",
       "      <td>1층 C블록17열 3</td>\n",
       "      <td>C</td>\n",
       "      <td>46.0</td>\n",
       "      <td>45.0</td>\n",
       "      <td>R</td>\n",
       "      <td>75000.0</td>\n",
       "      <td>R_75000.0</td>\n",
       "    </tr>\n",
       "    <tr>\n",
       "      <th>5</th>\n",
       "      <td>2631_2022-12-27_2_D</td>\n",
       "      <td>0.696203</td>\n",
       "      <td>2631_2022-12-27</td>\n",
       "      <td>2</td>\n",
       "      <td>2층 D블록8열 3</td>\n",
       "      <td>D</td>\n",
       "      <td>73.0</td>\n",
       "      <td>75.0</td>\n",
       "      <td>A</td>\n",
       "      <td>120000.0</td>\n",
       "      <td>A_120000.0</td>\n",
       "    </tr>\n",
       "    <tr>\n",
       "      <th>6</th>\n",
       "      <td>1684_2023-04-12_1_C</td>\n",
       "      <td>0.517787</td>\n",
       "      <td>1684_2023-04-12</td>\n",
       "      <td>1</td>\n",
       "      <td>1층 C블록2열 2</td>\n",
       "      <td>C</td>\n",
       "      <td>48.0</td>\n",
       "      <td>30.0</td>\n",
       "      <td>R</td>\n",
       "      <td>130000.0</td>\n",
       "      <td>R_130000.0</td>\n",
       "    </tr>\n",
       "    <tr>\n",
       "      <th>7</th>\n",
       "      <td>221_2023-05-23_1_B</td>\n",
       "      <td>0.129032</td>\n",
       "      <td>221_2023-05-23</td>\n",
       "      <td>1</td>\n",
       "      <td>1층 B블록21열 9</td>\n",
       "      <td>B</td>\n",
       "      <td>36.0</td>\n",
       "      <td>49.0</td>\n",
       "      <td>R</td>\n",
       "      <td>110000.0</td>\n",
       "      <td>R_110000.0</td>\n",
       "    </tr>\n",
       "    <tr>\n",
       "      <th>...</th>\n",
       "      <td>...</td>\n",
       "      <td>...</td>\n",
       "      <td>...</td>\n",
       "      <td>...</td>\n",
       "      <td>...</td>\n",
       "      <td>...</td>\n",
       "      <td>...</td>\n",
       "      <td>...</td>\n",
       "      <td>...</td>\n",
       "      <td>...</td>\n",
       "      <td>...</td>\n",
       "    </tr>\n",
       "    <tr>\n",
       "      <th>458904</th>\n",
       "      <td>2841_2022-12-10_3_D</td>\n",
       "      <td>0.531915</td>\n",
       "      <td>2841_2022-12-10</td>\n",
       "      <td>3</td>\n",
       "      <td>3층 D블록6열 7</td>\n",
       "      <td>D</td>\n",
       "      <td>53.0</td>\n",
       "      <td>92.0</td>\n",
       "      <td>N</td>\n",
       "      <td>NaN</td>\n",
       "      <td>NaN</td>\n",
       "    </tr>\n",
       "    <tr>\n",
       "      <th>458905</th>\n",
       "      <td>1170_2019-12-22_2_A</td>\n",
       "      <td>0.453333</td>\n",
       "      <td>1170_2019-12-22</td>\n",
       "      <td>2</td>\n",
       "      <td>2층 A블록5열 5</td>\n",
       "      <td>A</td>\n",
       "      <td>15.0</td>\n",
       "      <td>72.0</td>\n",
       "      <td>A</td>\n",
       "      <td>80000.0</td>\n",
       "      <td>A_80000.0</td>\n",
       "    </tr>\n",
       "    <tr>\n",
       "      <th>458906</th>\n",
       "      <td>1528_2019-07-21_2_E</td>\n",
       "      <td>0.978723</td>\n",
       "      <td>1528_2019-07-21</td>\n",
       "      <td>2</td>\n",
       "      <td>2층 E블록4열 16</td>\n",
       "      <td>E</td>\n",
       "      <td>92.0</td>\n",
       "      <td>71.0</td>\n",
       "      <td>N</td>\n",
       "      <td>NaN</td>\n",
       "      <td>NaN</td>\n",
       "    </tr>\n",
       "    <tr>\n",
       "      <th>458907</th>\n",
       "      <td>1218_2023-05-02_1_E</td>\n",
       "      <td>0.645714</td>\n",
       "      <td>1218_2023-05-02</td>\n",
       "      <td>1</td>\n",
       "      <td>1층 E블록5열 10</td>\n",
       "      <td>E</td>\n",
       "      <td>84.0</td>\n",
       "      <td>33.0</td>\n",
       "      <td>N</td>\n",
       "      <td>NaN</td>\n",
       "      <td>NaN</td>\n",
       "    </tr>\n",
       "    <tr>\n",
       "      <th>458908</th>\n",
       "      <td>282_2019-05-31_3_N</td>\n",
       "      <td>0.130435</td>\n",
       "      <td>282_2019-05-31</td>\n",
       "      <td>3</td>\n",
       "      <td>3층 N블록1열 8</td>\n",
       "      <td>N</td>\n",
       "      <td>66.0</td>\n",
       "      <td>100.0</td>\n",
       "      <td>C</td>\n",
       "      <td>10000.0</td>\n",
       "      <td>C_10000.0</td>\n",
       "    </tr>\n",
       "  </tbody>\n",
       "</table>\n",
       "<p>319379 rows × 11 columns</p>\n",
       "</div>"
      ],
      "text/plain": [
       "                     knn_id  na_ratio               id  floor         seat  \\\n",
       "2        528_2019-03-23_1_A  0.019868   528_2019-03-23      1   1층 A블록2열 1   \n",
       "3       1528_2019-07-21_1_C  0.158879  1528_2019-07-21      1  1층 C블록17열 3   \n",
       "5       2631_2022-12-27_2_D  0.696203  2631_2022-12-27      2   2층 D블록8열 3   \n",
       "6       1684_2023-04-12_1_C  0.517787  1684_2023-04-12      1   1층 C블록2열 2   \n",
       "7        221_2023-05-23_1_B  0.129032   221_2023-05-23      1  1층 B블록21열 9   \n",
       "...                     ...       ...              ...    ...          ...   \n",
       "458904  2841_2022-12-10_3_D  0.531915  2841_2022-12-10      3   3층 D블록6열 7   \n",
       "458905  1170_2019-12-22_2_A  0.453333  1170_2019-12-22      2   2층 A블록5열 5   \n",
       "458906  1528_2019-07-21_2_E  0.978723  1528_2019-07-21      2  2층 E블록4열 16   \n",
       "458907  1218_2023-05-02_1_E  0.645714  1218_2023-05-02      1  1층 E블록5열 10   \n",
       "458908   282_2019-05-31_3_N  0.130435   282_2019-05-31      3   3층 N블록1열 8   \n",
       "\n",
       "       sector     x      y seat_rnk      cost      target  \n",
       "2           A  18.0   30.0        A  180000.0  A_180000.0  \n",
       "3           C  46.0   45.0        R   75000.0   R_75000.0  \n",
       "5           D  73.0   75.0        A  120000.0  A_120000.0  \n",
       "6           C  48.0   30.0        R  130000.0  R_130000.0  \n",
       "7           B  36.0   49.0        R  110000.0  R_110000.0  \n",
       "...       ...   ...    ...      ...       ...         ...  \n",
       "458904      D  53.0   92.0        N       NaN         NaN  \n",
       "458905      A  15.0   72.0        A   80000.0   A_80000.0  \n",
       "458906      E  92.0   71.0        N       NaN         NaN  \n",
       "458907      E  84.0   33.0        N       NaN         NaN  \n",
       "458908      N  66.0  100.0        C   10000.0   C_10000.0  \n",
       "\n",
       "[319379 rows x 11 columns]"
      ]
     },
     "execution_count": 34,
     "metadata": {},
     "output_type": "execute_result"
    }
   ],
   "source": [
    "data_knn_1"
   ]
  },
  {
   "cell_type": "code",
   "execution_count": 35,
   "metadata": {},
   "outputs": [
    {
     "name": "stderr",
     "output_type": "stream",
     "text": [
      "528_2019-03-23_1_A is being processed:   0%|          | 0/4753 [00:00<?, ?it/s]"
     ]
    },
    {
     "name": "stderr",
     "output_type": "stream",
     "text": [
      "452_2019-09-10_0_H is being processed: 100%|██████████| 4753/4753 [01:57<00:00, 40.55it/s]   \n"
     ]
    }
   ],
   "source": [
    "# threshold = 0.8\n",
    "knn_id = data_knn_1.knn_id.unique()\n",
    "\n",
    "result_1 = pd.DataFrame()\n",
    "out_id_1 = []\n",
    "all_na_id = []\n",
    "\n",
    "pbar = tqdm(knn_id, total=len(knn_id), desc='')\n",
    "for i in pbar:\n",
    "    pbar.set_description(f'{i} is being processed')\n",
    "    \n",
    "    df = data_knn_1[data_knn_1['knn_id']==i]\n",
    "    \n",
    "    scaler = MinMaxScaler()\n",
    "    df[['x','y']] = scaler.fit_transform(df[['x','y']])\n",
    "    \n",
    "    train = df[~df['target'].isna()]\n",
    "    X_train = train.loc[:,['x','y']]; y_train = train['target']\n",
    "    X_test = df[df['target'].isna()].loc[:,['x','y']]\n",
    "    \n",
    "    n_neighbors = 3\n",
    "    if X_train.shape[0] < n_neighbors:  # n_samples < n_neighbors (lack of sample under knn_id)\n",
    "        out_id_1.append(df.iloc[0].knn_id)\n",
    "    elif df.cost.isna().sum() == df.shape[0]:  # all NA under knn_id (df.cost.isna().sum()/df.shape[0]) > threshold\n",
    "        all_na_id.append(df.iloc[0].knn_id)\n",
    "    else:\n",
    "        knn = KNeighborsClassifier(n_neighbors=n_neighbors)  # KNN\n",
    "        knn.fit(X_train, y_train)\n",
    "        pred = knn.predict(X_test)\n",
    "        df.loc[df['target'].isna(),'target'] = pred\n",
    "    \n",
    "        result_1 = pd.concat([result_1,df], axis=0, ignore_index=True)"
   ]
  },
  {
   "cell_type": "code",
   "execution_count": 36,
   "metadata": {},
   "outputs": [],
   "source": [
    "save_1 = result_1.copy()"
   ]
  },
  {
   "cell_type": "code",
   "execution_count": 37,
   "metadata": {},
   "outputs": [],
   "source": [
    "# result = save_1.copy()"
   ]
  },
  {
   "cell_type": "code",
   "execution_count": 38,
   "metadata": {},
   "outputs": [
    {
     "data": {
      "text/plain": [
       "0"
      ]
     },
     "execution_count": 38,
     "metadata": {},
     "output_type": "execute_result"
    }
   ],
   "source": [
    "result_1.target.isna().sum()"
   ]
  },
  {
   "cell_type": "code",
   "execution_count": 39,
   "metadata": {},
   "outputs": [
    {
     "data": {
      "text/html": [
       "<div>\n",
       "<style scoped>\n",
       "    .dataframe tbody tr th:only-of-type {\n",
       "        vertical-align: middle;\n",
       "    }\n",
       "\n",
       "    .dataframe tbody tr th {\n",
       "        vertical-align: top;\n",
       "    }\n",
       "\n",
       "    .dataframe thead th {\n",
       "        text-align: right;\n",
       "    }\n",
       "</style>\n",
       "<table border=\"1\" class=\"dataframe\">\n",
       "  <thead>\n",
       "    <tr style=\"text-align: right;\">\n",
       "      <th></th>\n",
       "      <th>id</th>\n",
       "      <th>seat</th>\n",
       "      <th>cost</th>\n",
       "    </tr>\n",
       "  </thead>\n",
       "  <tbody>\n",
       "  </tbody>\n",
       "</table>\n",
       "</div>"
      ],
      "text/plain": [
       "Empty DataFrame\n",
       "Columns: [id, seat, cost]\n",
       "Index: []"
      ]
     },
     "execution_count": 39,
     "metadata": {},
     "output_type": "execute_result"
    }
   ],
   "source": [
    "result_1.groupby(['id','seat'])['cost'].nunique().reset_index()\\\n",
    "    .pipe(lambda df: df[df['cost']>1])"
   ]
  },
  {
   "cell_type": "code",
   "execution_count": 40,
   "metadata": {},
   "outputs": [],
   "source": [
    "fuck_id_1 = all_na_id + out_id_1"
   ]
  },
  {
   "cell_type": "code",
   "execution_count": 41,
   "metadata": {},
   "outputs": [],
   "source": [
    "# Update\n",
    "result_1['seat_rnk_new'] = [f for f in result_1['target'].str[0]]\n",
    "result_1['cost_new'] = [f for f in result_1['target'].str[2:]]\n",
    "\n",
    "result_1['floor'] = result_1['floor'].astype(int)\n",
    "result_1['cost_new'] = result_1['cost_new'].astype(float).astype(int)\n",
    "\n",
    "result_1['seat_rnk'] = result_1['seat_rnk_new']\n",
    "result_1['cost'] = result_1['cost_new']\n",
    "result_1 = result_1.drop(columns=['seat_rnk_new','cost_new'])"
   ]
  },
  {
   "cell_type": "code",
   "execution_count": 42,
   "metadata": {},
   "outputs": [],
   "source": [
    "# Final 1\n",
    "data1 = pd.concat([result_1,data_good_1], axis=0, ignore_index=True)"
   ]
  },
  {
   "cell_type": "code",
   "execution_count": 43,
   "metadata": {},
   "outputs": [
    {
     "data": {
      "text/plain": [
       "knn_id      0\n",
       "na_ratio    0\n",
       "id          0\n",
       "floor       0\n",
       "seat        0\n",
       "sector      0\n",
       "x           0\n",
       "y           0\n",
       "seat_rnk    0\n",
       "cost        0\n",
       "target      0\n",
       "dtype: int64"
      ]
     },
     "execution_count": 43,
     "metadata": {},
     "output_type": "execute_result"
    }
   ],
   "source": [
    "data1.isna().sum()"
   ]
  },
  {
   "cell_type": "markdown",
   "metadata": {},
   "source": [
    "## data_knn_2 : knn_id [id_floor]"
   ]
  },
  {
   "cell_type": "code",
   "execution_count": 44,
   "metadata": {},
   "outputs": [],
   "source": [
    "data_knn_2 = data_knn.copy()\n",
    "\n",
    "fuck_id_1_new = [s[:-2] for s in fuck_id_1]"
   ]
  },
  {
   "cell_type": "code",
   "execution_count": 45,
   "metadata": {},
   "outputs": [],
   "source": [
    "# knn_id : id_floor\n",
    "data_knn_2['knn_id'] = data_knn_2['id'] + '_' + data_knn_2['floor'].astype(str)\n",
    "data_knn_2.insert(0, 'knn_id', data_knn_2.pop('knn_id'))\n",
    "\n",
    "# Get\n",
    "data_knn_2 = data_knn_2[data_knn_2['knn_id'].isin(fuck_id_1_new)]\n",
    "\n",
    "# target\n",
    "data_knn_2['target'] = np.nan\n",
    "cond = ~((data_knn_2['seat_rnk']=='N') | (data_knn_2['cost'].isna()))\n",
    "data_knn_2.loc[cond,'target'] = data_knn_2.loc[cond,'seat_rnk'] + '_' + data_knn_2.loc[cond,'cost'].astype(str)\n",
    "\n",
    "# na_ratio\n",
    "data_knn_2 = data_knn_2.groupby('knn_id')[['target']].apply(lambda x: x.isna().sum() / len(x))\\\n",
    "    .rename(columns={'target':'na_ratio'}).reset_index().merge(data_knn_2, how='right')"
   ]
  },
  {
   "cell_type": "code",
   "execution_count": 46,
   "metadata": {},
   "outputs": [],
   "source": [
    "data_good_2 = data_knn_2[data_knn_2['na_ratio']==0]"
   ]
  },
  {
   "cell_type": "code",
   "execution_count": 47,
   "metadata": {},
   "outputs": [
    {
     "data": {
      "text/plain": [
       "<Axes: xlabel='na_ratio', ylabel='Count'>"
      ]
     },
     "execution_count": 47,
     "metadata": {},
     "output_type": "execute_result"
    },
    {
     "data": {
      "image/png": "[encoded data removed]",
      "text/plain": [
       "<Figure size 640x480 with 1 Axes>"
      ]
     },
     "metadata": {},
     "output_type": "display_data"
    }
   ],
   "source": [
    "sns.histplot(x='na_ratio', data=data_knn_2)"
   ]
  },
  {
   "cell_type": "code",
   "execution_count": 48,
   "metadata": {},
   "outputs": [
    {
     "name": "stderr",
     "output_type": "stream",
     "text": [
      "2840_2021-12-14_3 is being processed:   0%|          | 0/524 [00:00<?, ?it/s]"
     ]
    },
    {
     "name": "stderr",
     "output_type": "stream",
     "text": [
      "452_2019-09-10_0 is being processed: 100%|██████████| 524/524 [00:04<00:00, 129.33it/s]   \n"
     ]
    }
   ],
   "source": [
    "threshold = 0.8\n",
    "knn_id = data_knn_2.knn_id.unique()\n",
    "\n",
    "result_2 = pd.DataFrame()\n",
    "out_id_2 = []\n",
    "threshold_na_id = []\n",
    "\n",
    "pbar = tqdm(knn_id, total=len(knn_id), desc='')\n",
    "for i in pbar:\n",
    "    pbar.set_description(f'{i} is being processed')\n",
    "    \n",
    "    df = data_knn_2[data_knn_2['knn_id']==i]\n",
    "    \n",
    "    scaler = MinMaxScaler()\n",
    "    df[['x','y']] = scaler.fit_transform(df[['x','y']])\n",
    "    \n",
    "    train = df[~df['target'].isna()]\n",
    "    X_train = train.loc[:,['x','y']]; y_train = train['target']\n",
    "    X_test = df[df['target'].isna()].loc[:,['x','y']]\n",
    "    \n",
    "    n_neighbors = 3\n",
    "    if X_train.shape[0] < n_neighbors:  # n_samples < n_neighbors\n",
    "        out_id_2.append(df.iloc[0].knn_id)\n",
    "    elif (df.cost.isna().sum()/df.shape[0]) > threshold:  # 기준값(threshold)보다 cost의 NA 비율이 높을 때\n",
    "        threshold_na_id.append(df.iloc[0].knn_id)\n",
    "    else:\n",
    "        knn = KNeighborsClassifier(n_neighbors=n_neighbors)  # KNN\n",
    "        knn.fit(X_train, y_train)\n",
    "        pred = knn.predict(X_test)\n",
    "        df.loc[df['target'].isna(),'target'] = pred\n",
    "    \n",
    "        result_2 = pd.concat([result_2,df], axis=0, ignore_index=True)"
   ]
  },
  {
   "cell_type": "code",
   "execution_count": 49,
   "metadata": {},
   "outputs": [],
   "source": [
    "save_2 = result_2.copy()"
   ]
  },
  {
   "cell_type": "code",
   "execution_count": 50,
   "metadata": {},
   "outputs": [],
   "source": [
    "# result_2 = save_2.copy"
   ]
  },
  {
   "cell_type": "code",
   "execution_count": 51,
   "metadata": {},
   "outputs": [
    {
     "data": {
      "text/plain": [
       "0"
      ]
     },
     "execution_count": 51,
     "metadata": {},
     "output_type": "execute_result"
    }
   ],
   "source": [
    "result_2.target.isna().sum()"
   ]
  },
  {
   "cell_type": "code",
   "execution_count": 52,
   "metadata": {},
   "outputs": [
    {
     "data": {
      "text/html": [
       "<div>\n",
       "<style scoped>\n",
       "    .dataframe tbody tr th:only-of-type {\n",
       "        vertical-align: middle;\n",
       "    }\n",
       "\n",
       "    .dataframe tbody tr th {\n",
       "        vertical-align: top;\n",
       "    }\n",
       "\n",
       "    .dataframe thead th {\n",
       "        text-align: right;\n",
       "    }\n",
       "</style>\n",
       "<table border=\"1\" class=\"dataframe\">\n",
       "  <thead>\n",
       "    <tr style=\"text-align: right;\">\n",
       "      <th></th>\n",
       "      <th>knn_id</th>\n",
       "      <th>na_ratio</th>\n",
       "      <th>id</th>\n",
       "      <th>floor</th>\n",
       "      <th>seat</th>\n",
       "      <th>sector</th>\n",
       "      <th>x</th>\n",
       "      <th>y</th>\n",
       "      <th>seat_rnk</th>\n",
       "      <th>cost</th>\n",
       "      <th>target</th>\n",
       "    </tr>\n",
       "  </thead>\n",
       "  <tbody>\n",
       "    <tr>\n",
       "      <th>0</th>\n",
       "      <td>2835_2023-06-29_3</td>\n",
       "      <td>0.03271</td>\n",
       "      <td>2835_2023-06-29</td>\n",
       "      <td>3</td>\n",
       "      <td>3층 M블록1열 2</td>\n",
       "      <td>M</td>\n",
       "      <td>0.326316</td>\n",
       "      <td>0.950000</td>\n",
       "      <td>B</td>\n",
       "      <td>10000.0</td>\n",
       "      <td>B_10000.0</td>\n",
       "    </tr>\n",
       "    <tr>\n",
       "      <th>1</th>\n",
       "      <td>2835_2023-06-29_3</td>\n",
       "      <td>0.03271</td>\n",
       "      <td>2835_2023-06-29</td>\n",
       "      <td>3</td>\n",
       "      <td>3층 M블록1열 14</td>\n",
       "      <td>M</td>\n",
       "      <td>0.452632</td>\n",
       "      <td>0.950000</td>\n",
       "      <td>B</td>\n",
       "      <td>10000.0</td>\n",
       "      <td>B_10000.0</td>\n",
       "    </tr>\n",
       "    <tr>\n",
       "      <th>2</th>\n",
       "      <td>2835_2023-06-29_3</td>\n",
       "      <td>0.03271</td>\n",
       "      <td>2835_2023-06-29</td>\n",
       "      <td>3</td>\n",
       "      <td>3층 D블록4열 3</td>\n",
       "      <td>D</td>\n",
       "      <td>0.484211</td>\n",
       "      <td>0.450000</td>\n",
       "      <td>A</td>\n",
       "      <td>30000.0</td>\n",
       "      <td>A_30000.0</td>\n",
       "    </tr>\n",
       "    <tr>\n",
       "      <th>3</th>\n",
       "      <td>2835_2023-06-29_3</td>\n",
       "      <td>0.03271</td>\n",
       "      <td>2835_2023-06-29</td>\n",
       "      <td>3</td>\n",
       "      <td>3층 M블록2열 13</td>\n",
       "      <td>M</td>\n",
       "      <td>0.442105</td>\n",
       "      <td>1.000000</td>\n",
       "      <td>B</td>\n",
       "      <td>10000.0</td>\n",
       "      <td>B_10000.0</td>\n",
       "    </tr>\n",
       "    <tr>\n",
       "      <th>4</th>\n",
       "      <td>2835_2023-06-29_3</td>\n",
       "      <td>0.03271</td>\n",
       "      <td>2835_2023-06-29</td>\n",
       "      <td>3</td>\n",
       "      <td>3층 G블록2열 3</td>\n",
       "      <td>G</td>\n",
       "      <td>0.978947</td>\n",
       "      <td>0.350000</td>\n",
       "      <td>B</td>\n",
       "      <td>10000.0</td>\n",
       "      <td>B_10000.0</td>\n",
       "    </tr>\n",
       "    <tr>\n",
       "      <th>...</th>\n",
       "      <td>...</td>\n",
       "      <td>...</td>\n",
       "      <td>...</td>\n",
       "      <td>...</td>\n",
       "      <td>...</td>\n",
       "      <td>...</td>\n",
       "      <td>...</td>\n",
       "      <td>...</td>\n",
       "      <td>...</td>\n",
       "      <td>...</td>\n",
       "      <td>...</td>\n",
       "    </tr>\n",
       "    <tr>\n",
       "      <th>51427</th>\n",
       "      <td>253_2019-08-27_3</td>\n",
       "      <td>0.12500</td>\n",
       "      <td>253_2019-08-27</td>\n",
       "      <td>3</td>\n",
       "      <td>3층 D블록5열 1</td>\n",
       "      <td>D</td>\n",
       "      <td>0.826923</td>\n",
       "      <td>1.000000</td>\n",
       "      <td>A</td>\n",
       "      <td>30000.0</td>\n",
       "      <td>A_30000.0</td>\n",
       "    </tr>\n",
       "    <tr>\n",
       "      <th>51428</th>\n",
       "      <td>253_2019-08-27_3</td>\n",
       "      <td>0.12500</td>\n",
       "      <td>253_2019-08-27</td>\n",
       "      <td>3</td>\n",
       "      <td>3층 BOX9 2</td>\n",
       "      <td>i</td>\n",
       "      <td>0.000000</td>\n",
       "      <td>0.000000</td>\n",
       "      <td>A</td>\n",
       "      <td>30000.0</td>\n",
       "      <td>A_30000.0</td>\n",
       "    </tr>\n",
       "    <tr>\n",
       "      <th>51429</th>\n",
       "      <td>253_2019-08-27_3</td>\n",
       "      <td>0.12500</td>\n",
       "      <td>253_2019-08-27</td>\n",
       "      <td>3</td>\n",
       "      <td>3층 BOX9 3</td>\n",
       "      <td>i</td>\n",
       "      <td>0.019231</td>\n",
       "      <td>0.000000</td>\n",
       "      <td>A</td>\n",
       "      <td>30000.0</td>\n",
       "      <td>A_30000.0</td>\n",
       "    </tr>\n",
       "    <tr>\n",
       "      <th>51430</th>\n",
       "      <td>253_2019-08-27_3</td>\n",
       "      <td>0.12500</td>\n",
       "      <td>253_2019-08-27</td>\n",
       "      <td>3</td>\n",
       "      <td>3층 D블록4열 9</td>\n",
       "      <td>D</td>\n",
       "      <td>0.980769</td>\n",
       "      <td>0.666667</td>\n",
       "      <td>A</td>\n",
       "      <td>30000.0</td>\n",
       "      <td>A_30000.0</td>\n",
       "    </tr>\n",
       "    <tr>\n",
       "      <th>51431</th>\n",
       "      <td>253_2019-08-27_3</td>\n",
       "      <td>0.12500</td>\n",
       "      <td>253_2019-08-27</td>\n",
       "      <td>3</td>\n",
       "      <td>3층 C블록5열 11</td>\n",
       "      <td>C</td>\n",
       "      <td>0.750000</td>\n",
       "      <td>1.000000</td>\n",
       "      <td>N</td>\n",
       "      <td>NaN</td>\n",
       "      <td>A_30000.0</td>\n",
       "    </tr>\n",
       "  </tbody>\n",
       "</table>\n",
       "<p>51432 rows × 11 columns</p>\n",
       "</div>"
      ],
      "text/plain": [
       "                  knn_id  na_ratio               id  floor         seat  \\\n",
       "0      2835_2023-06-29_3   0.03271  2835_2023-06-29      3   3층 M블록1열 2   \n",
       "1      2835_2023-06-29_3   0.03271  2835_2023-06-29      3  3층 M블록1열 14   \n",
       "2      2835_2023-06-29_3   0.03271  2835_2023-06-29      3   3층 D블록4열 3   \n",
       "3      2835_2023-06-29_3   0.03271  2835_2023-06-29      3  3층 M블록2열 13   \n",
       "4      2835_2023-06-29_3   0.03271  2835_2023-06-29      3   3층 G블록2열 3   \n",
       "...                  ...       ...              ...    ...          ...   \n",
       "51427   253_2019-08-27_3   0.12500   253_2019-08-27      3   3층 D블록5열 1   \n",
       "51428   253_2019-08-27_3   0.12500   253_2019-08-27      3    3층 BOX9 2   \n",
       "51429   253_2019-08-27_3   0.12500   253_2019-08-27      3    3층 BOX9 3   \n",
       "51430   253_2019-08-27_3   0.12500   253_2019-08-27      3   3층 D블록4열 9   \n",
       "51431   253_2019-08-27_3   0.12500   253_2019-08-27      3  3층 C블록5열 11   \n",
       "\n",
       "      sector         x         y seat_rnk     cost     target  \n",
       "0          M  0.326316  0.950000        B  10000.0  B_10000.0  \n",
       "1          M  0.452632  0.950000        B  10000.0  B_10000.0  \n",
       "2          D  0.484211  0.450000        A  30000.0  A_30000.0  \n",
       "3          M  0.442105  1.000000        B  10000.0  B_10000.0  \n",
       "4          G  0.978947  0.350000        B  10000.0  B_10000.0  \n",
       "...      ...       ...       ...      ...      ...        ...  \n",
       "51427      D  0.826923  1.000000        A  30000.0  A_30000.0  \n",
       "51428      i  0.000000  0.000000        A  30000.0  A_30000.0  \n",
       "51429      i  0.019231  0.000000        A  30000.0  A_30000.0  \n",
       "51430      D  0.980769  0.666667        A  30000.0  A_30000.0  \n",
       "51431      C  0.750000  1.000000        N      NaN  A_30000.0  \n",
       "\n",
       "[51432 rows x 11 columns]"
      ]
     },
     "execution_count": 52,
     "metadata": {},
     "output_type": "execute_result"
    }
   ],
   "source": [
    "result_2"
   ]
  },
  {
   "cell_type": "code",
   "execution_count": 53,
   "metadata": {},
   "outputs": [
    {
     "data": {
      "text/html": [
       "<div>\n",
       "<style scoped>\n",
       "    .dataframe tbody tr th:only-of-type {\n",
       "        vertical-align: middle;\n",
       "    }\n",
       "\n",
       "    .dataframe tbody tr th {\n",
       "        vertical-align: top;\n",
       "    }\n",
       "\n",
       "    .dataframe thead th {\n",
       "        text-align: right;\n",
       "    }\n",
       "</style>\n",
       "<table border=\"1\" class=\"dataframe\">\n",
       "  <thead>\n",
       "    <tr style=\"text-align: right;\">\n",
       "      <th></th>\n",
       "      <th>id</th>\n",
       "      <th>seat</th>\n",
       "      <th>cost</th>\n",
       "    </tr>\n",
       "  </thead>\n",
       "  <tbody>\n",
       "  </tbody>\n",
       "</table>\n",
       "</div>"
      ],
      "text/plain": [
       "Empty DataFrame\n",
       "Columns: [id, seat, cost]\n",
       "Index: []"
      ]
     },
     "execution_count": 53,
     "metadata": {},
     "output_type": "execute_result"
    }
   ],
   "source": [
    "result_2.groupby(['id','seat'])['cost'].nunique().reset_index()\\\n",
    "    .pipe(lambda df: df[df['cost']>1])"
   ]
  },
  {
   "cell_type": "code",
   "execution_count": 54,
   "metadata": {},
   "outputs": [],
   "source": [
    "fuck_id_2 = threshold_na_id + out_id_2"
   ]
  },
  {
   "cell_type": "code",
   "execution_count": 55,
   "metadata": {},
   "outputs": [],
   "source": [
    "# Update\n",
    "result_2['seat_rnk_new'] = [f for f in result_2['target'].str[0]]\n",
    "result_2['cost_new'] = [f for f in result_2['target'].str[2:]]\n",
    "\n",
    "result_2['floor'] = result_2['floor'].astype(int)\n",
    "result_2['cost_new'] = result_2['cost_new'].astype(float).astype(int)\n",
    "\n",
    "result_2['seat_rnk'] = result_2['seat_rnk_new']\n",
    "result_2['cost'] = result_2['cost_new']\n",
    "result_2 = result_2.drop(columns=['seat_rnk_new','cost_new'])"
   ]
  },
  {
   "cell_type": "code",
   "execution_count": 56,
   "metadata": {},
   "outputs": [],
   "source": [
    "# Final 2\n",
    "data2 = pd.concat([result_2,data_good_2], axis=0, ignore_index=True)"
   ]
  },
  {
   "cell_type": "code",
   "execution_count": 57,
   "metadata": {},
   "outputs": [
    {
     "data": {
      "text/plain": [
       "knn_id      0\n",
       "na_ratio    0\n",
       "id          0\n",
       "floor       0\n",
       "seat        0\n",
       "sector      0\n",
       "x           0\n",
       "y           0\n",
       "seat_rnk    0\n",
       "cost        0\n",
       "target      0\n",
       "dtype: int64"
      ]
     },
     "execution_count": 57,
     "metadata": {},
     "output_type": "execute_result"
    }
   ],
   "source": [
    "data2.isna().sum()"
   ]
  },
  {
   "cell_type": "markdown",
   "metadata": {},
   "source": [
    "## data_knn_3 : knn_id [id]"
   ]
  },
  {
   "cell_type": "code",
   "execution_count": 58,
   "metadata": {},
   "outputs": [],
   "source": [
    "data_knn_3 = data_knn.copy()\n",
    "\n",
    "fuck_id_2_new = [s[:-2] for s in fuck_id_2]"
   ]
  },
  {
   "cell_type": "code",
   "execution_count": 59,
   "metadata": {},
   "outputs": [],
   "source": [
    "# knn_id : id\n",
    "data_knn_3 = data_knn_3.rename(columns={'id':'knn_id'})\n",
    "\n",
    "# Get\n",
    "data_knn_3 = data_knn_3[data_knn_3['knn_id'].isin(fuck_id_2_new)]\n",
    "\n",
    "# target\n",
    "data_knn_3['target'] = np.nan\n",
    "cond = ~((data_knn_3['seat_rnk']=='N') | (data_knn_3['cost'].isna()))\n",
    "data_knn_3.loc[cond,'target'] = data_knn_3.loc[cond,'seat_rnk'] + '_' + data_knn_3.loc[cond,'cost'].astype(str)\n",
    "\n",
    "# na_ratio\n",
    "data_knn_3 = data_knn_3.groupby('knn_id')[['target']].apply(lambda x: x.isna().sum() / len(x))\\\n",
    "    .rename(columns={'target':'na_ratio'}).reset_index().merge(data_knn_3, how='right')"
   ]
  },
  {
   "cell_type": "code",
   "execution_count": 60,
   "metadata": {},
   "outputs": [],
   "source": [
    "data_good_3 = data_knn_3[data_knn_3['na_ratio']==0]\n",
    "data_good_3 = data_good_3.rename(columns={'knn_id':'id'})"
   ]
  },
  {
   "cell_type": "code",
   "execution_count": 61,
   "metadata": {},
   "outputs": [
    {
     "name": "stdout",
     "output_type": "stream",
     "text": [
      "0.8621673003802282\n"
     ]
    },
    {
     "data": {
      "image/png": "[encoded data removed]",
      "text/plain": [
       "<Figure size 640x480 with 1 Axes>"
      ]
     },
     "metadata": {},
     "output_type": "display_data"
    }
   ],
   "source": [
    "sns.histplot(x='na_ratio', data=data_knn_3)\n",
    "print(data_knn_3.na_ratio.max())"
   ]
  },
  {
   "cell_type": "code",
   "execution_count": 62,
   "metadata": {},
   "outputs": [
    {
     "name": "stderr",
     "output_type": "stream",
     "text": [
      "2615_2021-07-23_1 is being processed: 100%|██████████| 250/250 [00:05<00:00, 45.12it/s]\n"
     ]
    }
   ],
   "source": [
    "knn_id = data_knn_3.knn_id.unique()\n",
    "\n",
    "result_3 = pd.DataFrame()\n",
    "out_id_3 = []\n",
    "all_na_id = []\n",
    "\n",
    "pbar = tqdm(knn_id, total=len(knn_id), desc='')\n",
    "for i in pbar:\n",
    "    pbar.set_description(f'{i} is being processed')\n",
    "    \n",
    "    df = data_knn_3[data_knn_3['knn_id']==i]\n",
    "    \n",
    "    scaler = MinMaxScaler()\n",
    "    df[['x','y']] = scaler.fit_transform(df[['x','y']])\n",
    "    \n",
    "    train = df[~df['target'].isna()]\n",
    "    X_train = train.loc[:,['x','y']]; y_train = train['target']\n",
    "    X_test = df[df['target'].isna()].loc[:,['x','y']]\n",
    "    \n",
    "    n_neighbors = 3\n",
    "    knn = KNeighborsClassifier(n_neighbors=n_neighbors)\n",
    "    knn.fit(X_train, y_train)\n",
    "    pred = knn.predict(X_test)\n",
    "    df.loc[df['target'].isna(),'target'] = pred\n",
    "\n",
    "    result_3 = pd.concat([result_3,df], axis=0, ignore_index=True)"
   ]
  },
  {
   "cell_type": "code",
   "execution_count": 63,
   "metadata": {},
   "outputs": [],
   "source": [
    "save_3 = result_3.copy()"
   ]
  },
  {
   "cell_type": "code",
   "execution_count": 64,
   "metadata": {},
   "outputs": [],
   "source": [
    "# result_3 = save_3.copy()"
   ]
  },
  {
   "cell_type": "code",
   "execution_count": 65,
   "metadata": {},
   "outputs": [
    {
     "data": {
      "text/plain": [
       "0"
      ]
     },
     "execution_count": 65,
     "metadata": {},
     "output_type": "execute_result"
    }
   ],
   "source": [
    "result_3.target.isna().sum()"
   ]
  },
  {
   "cell_type": "code",
   "execution_count": 66,
   "metadata": {},
   "outputs": [
    {
     "data": {
      "text/html": [
       "<div>\n",
       "<style scoped>\n",
       "    .dataframe tbody tr th:only-of-type {\n",
       "        vertical-align: middle;\n",
       "    }\n",
       "\n",
       "    .dataframe tbody tr th {\n",
       "        vertical-align: top;\n",
       "    }\n",
       "\n",
       "    .dataframe thead th {\n",
       "        text-align: right;\n",
       "    }\n",
       "</style>\n",
       "<table border=\"1\" class=\"dataframe\">\n",
       "  <thead>\n",
       "    <tr style=\"text-align: right;\">\n",
       "      <th></th>\n",
       "      <th>knn_id</th>\n",
       "      <th>na_ratio</th>\n",
       "      <th>floor</th>\n",
       "      <th>seat</th>\n",
       "      <th>sector</th>\n",
       "      <th>x</th>\n",
       "      <th>y</th>\n",
       "      <th>seat_rnk</th>\n",
       "      <th>cost</th>\n",
       "      <th>target</th>\n",
       "    </tr>\n",
       "  </thead>\n",
       "  <tbody>\n",
       "    <tr>\n",
       "      <th>0</th>\n",
       "      <td>1528_2019-07-21</td>\n",
       "      <td>0.651676</td>\n",
       "      <td>1</td>\n",
       "      <td>1층 C블록17열 3</td>\n",
       "      <td>C</td>\n",
       "      <td>0.432692</td>\n",
       "      <td>0.222222</td>\n",
       "      <td>R</td>\n",
       "      <td>75000.0</td>\n",
       "      <td>R_75000.0</td>\n",
       "    </tr>\n",
       "    <tr>\n",
       "      <th>1</th>\n",
       "      <td>1528_2019-07-21</td>\n",
       "      <td>0.651676</td>\n",
       "      <td>3</td>\n",
       "      <td>3층 G블록6열 4</td>\n",
       "      <td>G</td>\n",
       "      <td>0.836538</td>\n",
       "      <td>0.875000</td>\n",
       "      <td>N</td>\n",
       "      <td>NaN</td>\n",
       "      <td>A_45000.0</td>\n",
       "    </tr>\n",
       "    <tr>\n",
       "      <th>2</th>\n",
       "      <td>1528_2019-07-21</td>\n",
       "      <td>0.651676</td>\n",
       "      <td>3</td>\n",
       "      <td>3층 G블록2열 3</td>\n",
       "      <td>G</td>\n",
       "      <td>0.913462</td>\n",
       "      <td>0.819444</td>\n",
       "      <td>N</td>\n",
       "      <td>NaN</td>\n",
       "      <td>A_45000.0</td>\n",
       "    </tr>\n",
       "    <tr>\n",
       "      <th>3</th>\n",
       "      <td>1528_2019-07-21</td>\n",
       "      <td>0.651676</td>\n",
       "      <td>1</td>\n",
       "      <td>1층 E블록16열 10</td>\n",
       "      <td>E</td>\n",
       "      <td>0.798077</td>\n",
       "      <td>0.208333</td>\n",
       "      <td>N</td>\n",
       "      <td>NaN</td>\n",
       "      <td>S_55000.0</td>\n",
       "    </tr>\n",
       "    <tr>\n",
       "      <th>4</th>\n",
       "      <td>1528_2019-07-21</td>\n",
       "      <td>0.651676</td>\n",
       "      <td>1</td>\n",
       "      <td>1층 B블록14열 12</td>\n",
       "      <td>B</td>\n",
       "      <td>0.384615</td>\n",
       "      <td>0.180556</td>\n",
       "      <td>R</td>\n",
       "      <td>75000.0</td>\n",
       "      <td>R_75000.0</td>\n",
       "    </tr>\n",
       "    <tr>\n",
       "      <th>...</th>\n",
       "      <td>...</td>\n",
       "      <td>...</td>\n",
       "      <td>...</td>\n",
       "      <td>...</td>\n",
       "      <td>...</td>\n",
       "      <td>...</td>\n",
       "      <td>...</td>\n",
       "      <td>...</td>\n",
       "      <td>...</td>\n",
       "      <td>...</td>\n",
       "    </tr>\n",
       "    <tr>\n",
       "      <th>219362</th>\n",
       "      <td>2615_2021-07-23_1</td>\n",
       "      <td>0.547945</td>\n",
       "      <td>1</td>\n",
       "      <td>1층 C블록16열 13</td>\n",
       "      <td>C</td>\n",
       "      <td>0.464789</td>\n",
       "      <td>0.589041</td>\n",
       "      <td>N</td>\n",
       "      <td>NaN</td>\n",
       "      <td>R_121000.0</td>\n",
       "    </tr>\n",
       "    <tr>\n",
       "      <th>219363</th>\n",
       "      <td>2615_2021-07-23_1</td>\n",
       "      <td>0.547945</td>\n",
       "      <td>1</td>\n",
       "      <td>1층 B블록19열 8</td>\n",
       "      <td>B</td>\n",
       "      <td>0.169014</td>\n",
       "      <td>0.630137</td>\n",
       "      <td>N</td>\n",
       "      <td>NaN</td>\n",
       "      <td>R_121000.0</td>\n",
       "    </tr>\n",
       "    <tr>\n",
       "      <th>219364</th>\n",
       "      <td>2615_2021-07-23_1</td>\n",
       "      <td>0.547945</td>\n",
       "      <td>1</td>\n",
       "      <td>1층 B블록9열 10</td>\n",
       "      <td>B</td>\n",
       "      <td>0.239437</td>\n",
       "      <td>0.493151</td>\n",
       "      <td>R</td>\n",
       "      <td>121000.0</td>\n",
       "      <td>R_121000.0</td>\n",
       "    </tr>\n",
       "    <tr>\n",
       "      <th>219365</th>\n",
       "      <td>2615_2021-07-23_1</td>\n",
       "      <td>0.547945</td>\n",
       "      <td>2</td>\n",
       "      <td>2층 C블록4열 4</td>\n",
       "      <td>C</td>\n",
       "      <td>0.380282</td>\n",
       "      <td>0.958904</td>\n",
       "      <td>A</td>\n",
       "      <td>88000.0</td>\n",
       "      <td>A_88000.0</td>\n",
       "    </tr>\n",
       "    <tr>\n",
       "      <th>219366</th>\n",
       "      <td>2615_2021-07-23_1</td>\n",
       "      <td>0.547945</td>\n",
       "      <td>1</td>\n",
       "      <td>1층 B블록16열 9</td>\n",
       "      <td>B</td>\n",
       "      <td>0.197183</td>\n",
       "      <td>0.589041</td>\n",
       "      <td>N</td>\n",
       "      <td>NaN</td>\n",
       "      <td>R_121000.0</td>\n",
       "    </tr>\n",
       "  </tbody>\n",
       "</table>\n",
       "<p>219367 rows × 10 columns</p>\n",
       "</div>"
      ],
      "text/plain": [
       "                   knn_id  na_ratio  floor          seat sector         x  \\\n",
       "0         1528_2019-07-21  0.651676      1   1층 C블록17열 3      C  0.432692   \n",
       "1         1528_2019-07-21  0.651676      3    3층 G블록6열 4      G  0.836538   \n",
       "2         1528_2019-07-21  0.651676      3    3층 G블록2열 3      G  0.913462   \n",
       "3         1528_2019-07-21  0.651676      1  1층 E블록16열 10      E  0.798077   \n",
       "4         1528_2019-07-21  0.651676      1  1층 B블록14열 12      B  0.384615   \n",
       "...                   ...       ...    ...           ...    ...       ...   \n",
       "219362  2615_2021-07-23_1  0.547945      1  1층 C블록16열 13      C  0.464789   \n",
       "219363  2615_2021-07-23_1  0.547945      1   1층 B블록19열 8      B  0.169014   \n",
       "219364  2615_2021-07-23_1  0.547945      1   1층 B블록9열 10      B  0.239437   \n",
       "219365  2615_2021-07-23_1  0.547945      2    2층 C블록4열 4      C  0.380282   \n",
       "219366  2615_2021-07-23_1  0.547945      1   1층 B블록16열 9      B  0.197183   \n",
       "\n",
       "               y seat_rnk      cost      target  \n",
       "0       0.222222        R   75000.0   R_75000.0  \n",
       "1       0.875000        N       NaN   A_45000.0  \n",
       "2       0.819444        N       NaN   A_45000.0  \n",
       "3       0.208333        N       NaN   S_55000.0  \n",
       "4       0.180556        R   75000.0   R_75000.0  \n",
       "...          ...      ...       ...         ...  \n",
       "219362  0.589041        N       NaN  R_121000.0  \n",
       "219363  0.630137        N       NaN  R_121000.0  \n",
       "219364  0.493151        R  121000.0  R_121000.0  \n",
       "219365  0.958904        A   88000.0   A_88000.0  \n",
       "219366  0.589041        N       NaN  R_121000.0  \n",
       "\n",
       "[219367 rows x 10 columns]"
      ]
     },
     "execution_count": 66,
     "metadata": {},
     "output_type": "execute_result"
    }
   ],
   "source": [
    "result_3"
   ]
  },
  {
   "cell_type": "code",
   "execution_count": 67,
   "metadata": {},
   "outputs": [
    {
     "data": {
      "text/html": [
       "<div>\n",
       "<style scoped>\n",
       "    .dataframe tbody tr th:only-of-type {\n",
       "        vertical-align: middle;\n",
       "    }\n",
       "\n",
       "    .dataframe tbody tr th {\n",
       "        vertical-align: top;\n",
       "    }\n",
       "\n",
       "    .dataframe thead th {\n",
       "        text-align: right;\n",
       "    }\n",
       "</style>\n",
       "<table border=\"1\" class=\"dataframe\">\n",
       "  <thead>\n",
       "    <tr style=\"text-align: right;\">\n",
       "      <th></th>\n",
       "      <th>knn_id</th>\n",
       "      <th>seat</th>\n",
       "      <th>cost</th>\n",
       "    </tr>\n",
       "  </thead>\n",
       "  <tbody>\n",
       "  </tbody>\n",
       "</table>\n",
       "</div>"
      ],
      "text/plain": [
       "Empty DataFrame\n",
       "Columns: [knn_id, seat, cost]\n",
       "Index: []"
      ]
     },
     "execution_count": 67,
     "metadata": {},
     "output_type": "execute_result"
    }
   ],
   "source": [
    "result_3.groupby(['knn_id','seat'])['cost'].nunique().reset_index()\\\n",
    "    .pipe(lambda df: df[df['cost']>1])"
   ]
  },
  {
   "cell_type": "code",
   "execution_count": 68,
   "metadata": {},
   "outputs": [],
   "source": [
    "# Update\n",
    "result_3['seat_rnk_new'] = [f for f in result_3['target'].str[0]]\n",
    "result_3['cost_new'] = [f for f in result_3['target'].str[2:]]\n",
    "\n",
    "result_3['floor'] = result_3['floor'].astype(int)\n",
    "result_3['cost_new'] = result_3['cost_new'].astype(float).astype(int)\n",
    "\n",
    "result_3['seat_rnk'] = result_3['seat_rnk_new']\n",
    "result_3['cost'] = result_3['cost_new']\n",
    "result_3 = result_3.drop(columns=['seat_rnk_new','cost_new'])\n",
    "\n",
    "result_3 = result_3.rename(columns={'knn_id':'id'})"
   ]
  },
  {
   "cell_type": "code",
   "execution_count": 69,
   "metadata": {},
   "outputs": [],
   "source": [
    "# Final 3\n",
    "data3 = pd.concat([result_3,data_good_3], axis=0, ignore_index=True)"
   ]
  },
  {
   "cell_type": "code",
   "execution_count": 70,
   "metadata": {},
   "outputs": [
    {
     "data": {
      "text/plain": [
       "id          0\n",
       "na_ratio    0\n",
       "floor       0\n",
       "seat        0\n",
       "sector      0\n",
       "x           0\n",
       "y           0\n",
       "seat_rnk    0\n",
       "cost        0\n",
       "target      0\n",
       "dtype: int64"
      ]
     },
     "execution_count": 70,
     "metadata": {},
     "output_type": "execute_result"
    }
   ],
   "source": [
    "data3.isna().sum()"
   ]
  },
  {
   "cell_type": "markdown",
   "metadata": {},
   "source": [
    "# Final Output"
   ]
  },
  {
   "cell_type": "markdown",
   "metadata": {},
   "source": [
    "## data_cost_filled"
   ]
  },
  {
   "cell_type": "code",
   "execution_count": 71,
   "metadata": {},
   "outputs": [],
   "source": [
    "data4 = data0[data0.id.isin(cnr4.id)]\n",
    "\n",
    "data_cost_filled = pd.concat([data1[['id','seat','seat_rnk','cost']],\n",
    "                              data2[['id','seat','seat_rnk','cost']],\n",
    "                              data3[['id','seat','seat_rnk','cost']],\n",
    "                              data4[['id','seat','seat_rnk','cost']]])\n",
    "data_cost_filled = data_cost_filled.drop_duplicates(subset=['id','seat'], keep='first')"
   ]
  },
  {
   "cell_type": "code",
   "execution_count": 72,
   "metadata": {},
   "outputs": [
    {
     "data": {
      "text/plain": [
       "seat_rnk    0\n",
       "cost        0\n",
       "dtype: int64"
      ]
     },
     "execution_count": 72,
     "metadata": {},
     "output_type": "execute_result"
    }
   ],
   "source": [
    "data_cost_filled[['seat_rnk','cost']].isna().sum()"
   ]
  },
  {
   "cell_type": "code",
   "execution_count": 73,
   "metadata": {},
   "outputs": [
    {
     "data": {
      "text/html": [
       "<div>\n",
       "<style scoped>\n",
       "    .dataframe tbody tr th:only-of-type {\n",
       "        vertical-align: middle;\n",
       "    }\n",
       "\n",
       "    .dataframe tbody tr th {\n",
       "        vertical-align: top;\n",
       "    }\n",
       "\n",
       "    .dataframe thead th {\n",
       "        text-align: right;\n",
       "    }\n",
       "</style>\n",
       "<table border=\"1\" class=\"dataframe\">\n",
       "  <thead>\n",
       "    <tr style=\"text-align: right;\">\n",
       "      <th></th>\n",
       "      <th>id</th>\n",
       "      <th>seat</th>\n",
       "      <th>cost</th>\n",
       "    </tr>\n",
       "  </thead>\n",
       "  <tbody>\n",
       "  </tbody>\n",
       "</table>\n",
       "</div>"
      ],
      "text/plain": [
       "Empty DataFrame\n",
       "Columns: [id, seat, cost]\n",
       "Index: []"
      ]
     },
     "execution_count": 73,
     "metadata": {},
     "output_type": "execute_result"
    }
   ],
   "source": [
    "# Check Duplicated id\n",
    "data_cost_filled.groupby(['id','seat'])['cost'].nunique().reset_index()\\\n",
    "    .pipe(lambda df: df[df['cost']>1])"
   ]
  },
  {
   "cell_type": "markdown",
   "metadata": {},
   "source": [
    "## data_final"
   ]
  },
  {
   "cell_type": "code",
   "execution_count": 74,
   "metadata": {},
   "outputs": [],
   "source": [
    "data00 = data0.drop(columns=['seat_rnk','cost'])\n",
    "\n",
    "data_final = data00.merge(data_cost_filled, how='right')"
   ]
  },
  {
   "cell_type": "code",
   "execution_count": 75,
   "metadata": {},
   "outputs": [
    {
     "data": {
      "text/plain": [
       "(644524, 42)"
      ]
     },
     "execution_count": 75,
     "metadata": {},
     "output_type": "execute_result"
    }
   ],
   "source": [
    "data_final.shape"
   ]
  },
  {
   "cell_type": "code",
   "execution_count": 76,
   "metadata": {},
   "outputs": [
    {
     "data": {
      "text/html": [
       "<div>\n",
       "<style scoped>\n",
       "    .dataframe tbody tr th:only-of-type {\n",
       "        vertical-align: middle;\n",
       "    }\n",
       "\n",
       "    .dataframe tbody tr th {\n",
       "        vertical-align: top;\n",
       "    }\n",
       "\n",
       "    .dataframe thead th {\n",
       "        text-align: right;\n",
       "    }\n",
       "</style>\n",
       "<table border=\"1\" class=\"dataframe\">\n",
       "  <thead>\n",
       "    <tr style=\"text-align: right;\">\n",
       "      <th></th>\n",
       "      <th>na_cnt</th>\n",
       "    </tr>\n",
       "  </thead>\n",
       "  <tbody>\n",
       "    <tr>\n",
       "      <th>age</th>\n",
       "      <td>196556</td>\n",
       "    </tr>\n",
       "    <tr>\n",
       "      <th>gender</th>\n",
       "      <td>196284</td>\n",
       "    </tr>\n",
       "    <tr>\n",
       "      <th>sector</th>\n",
       "      <td>0</td>\n",
       "    </tr>\n",
       "    <tr>\n",
       "      <th>골드</th>\n",
       "      <td>0</td>\n",
       "    </tr>\n",
       "    <tr>\n",
       "      <th>블루</th>\n",
       "      <td>0</td>\n",
       "    </tr>\n",
       "    <tr>\n",
       "      <th>그린</th>\n",
       "      <td>0</td>\n",
       "    </tr>\n",
       "    <tr>\n",
       "      <th>무료</th>\n",
       "      <td>0</td>\n",
       "    </tr>\n",
       "    <tr>\n",
       "      <th>싹틔우미</th>\n",
       "      <td>0</td>\n",
       "    </tr>\n",
       "    <tr>\n",
       "      <th>노블</th>\n",
       "      <td>0</td>\n",
       "    </tr>\n",
       "    <tr>\n",
       "      <th>member_yn</th>\n",
       "      <td>0</td>\n",
       "    </tr>\n",
       "    <tr>\n",
       "      <th>id</th>\n",
       "      <td>0</td>\n",
       "    </tr>\n",
       "    <tr>\n",
       "      <th>public</th>\n",
       "      <td>0</td>\n",
       "    </tr>\n",
       "    <tr>\n",
       "      <th>agency</th>\n",
       "      <td>0</td>\n",
       "    </tr>\n",
       "    <tr>\n",
       "      <th>code</th>\n",
       "      <td>0</td>\n",
       "    </tr>\n",
       "    <tr>\n",
       "      <th>date</th>\n",
       "      <td>0</td>\n",
       "    </tr>\n",
       "    <tr>\n",
       "      <th>genre</th>\n",
       "      <td>0</td>\n",
       "    </tr>\n",
       "    <tr>\n",
       "      <th>total_rnk</th>\n",
       "      <td>0</td>\n",
       "    </tr>\n",
       "    <tr>\n",
       "      <th>pre_open_date</th>\n",
       "      <td>188017</td>\n",
       "    </tr>\n",
       "    <tr>\n",
       "      <th>open_date</th>\n",
       "      <td>0</td>\n",
       "    </tr>\n",
       "    <tr>\n",
       "      <th>play_st_time</th>\n",
       "      <td>0</td>\n",
       "    </tr>\n",
       "    <tr>\n",
       "      <th>play_weekday</th>\n",
       "      <td>0</td>\n",
       "    </tr>\n",
       "    <tr>\n",
       "      <th>hour_cat</th>\n",
       "      <td>0</td>\n",
       "    </tr>\n",
       "    <tr>\n",
       "      <th>holiday</th>\n",
       "      <td>0</td>\n",
       "    </tr>\n",
       "    <tr>\n",
       "      <th>covid</th>\n",
       "      <td>0</td>\n",
       "    </tr>\n",
       "    <tr>\n",
       "      <th>running_time</th>\n",
       "      <td>0</td>\n",
       "    </tr>\n",
       "    <tr>\n",
       "      <th>intermission</th>\n",
       "      <td>0</td>\n",
       "    </tr>\n",
       "    <tr>\n",
       "      <th>seat</th>\n",
       "      <td>0</td>\n",
       "    </tr>\n",
       "    <tr>\n",
       "      <th>dc</th>\n",
       "      <td>0</td>\n",
       "    </tr>\n",
       "    <tr>\n",
       "      <th>dc_origin</th>\n",
       "      <td>0</td>\n",
       "    </tr>\n",
       "    <tr>\n",
       "      <th>price</th>\n",
       "      <td>0</td>\n",
       "    </tr>\n",
       "    <tr>\n",
       "      <th>floor</th>\n",
       "      <td>0</td>\n",
       "    </tr>\n",
       "    <tr>\n",
       "      <th>col</th>\n",
       "      <td>0</td>\n",
       "    </tr>\n",
       "    <tr>\n",
       "      <th>seat_num</th>\n",
       "      <td>0</td>\n",
       "    </tr>\n",
       "    <tr>\n",
       "      <th>cancel</th>\n",
       "      <td>0</td>\n",
       "    </tr>\n",
       "    <tr>\n",
       "      <th>tran_date</th>\n",
       "      <td>0</td>\n",
       "    </tr>\n",
       "    <tr>\n",
       "      <th>tran_time</th>\n",
       "      <td>0</td>\n",
       "    </tr>\n",
       "    <tr>\n",
       "      <th>tran_time_full</th>\n",
       "      <td>0</td>\n",
       "    </tr>\n",
       "    <tr>\n",
       "      <th>tran-open</th>\n",
       "      <td>0</td>\n",
       "    </tr>\n",
       "    <tr>\n",
       "      <th>x</th>\n",
       "      <td>0</td>\n",
       "    </tr>\n",
       "    <tr>\n",
       "      <th>y</th>\n",
       "      <td>0</td>\n",
       "    </tr>\n",
       "    <tr>\n",
       "      <th>seat_rnk</th>\n",
       "      <td>0</td>\n",
       "    </tr>\n",
       "    <tr>\n",
       "      <th>cost</th>\n",
       "      <td>0</td>\n",
       "    </tr>\n",
       "  </tbody>\n",
       "</table>\n",
       "</div>"
      ],
      "text/plain": [
       "                na_cnt\n",
       "age             196556\n",
       "gender          196284\n",
       "sector               0\n",
       "골드                   0\n",
       "블루                   0\n",
       "그린                   0\n",
       "무료                   0\n",
       "싹틔우미                 0\n",
       "노블                   0\n",
       "member_yn            0\n",
       "id                   0\n",
       "public               0\n",
       "agency               0\n",
       "code                 0\n",
       "date                 0\n",
       "genre                0\n",
       "total_rnk            0\n",
       "pre_open_date   188017\n",
       "open_date            0\n",
       "play_st_time         0\n",
       "play_weekday         0\n",
       "hour_cat             0\n",
       "holiday              0\n",
       "covid                0\n",
       "running_time         0\n",
       "intermission         0\n",
       "seat                 0\n",
       "dc                   0\n",
       "dc_origin            0\n",
       "price                0\n",
       "floor                0\n",
       "col                  0\n",
       "seat_num             0\n",
       "cancel               0\n",
       "tran_date            0\n",
       "tran_time            0\n",
       "tran_time_full       0\n",
       "tran-open            0\n",
       "x                    0\n",
       "y                    0\n",
       "seat_rnk             0\n",
       "cost                 0"
      ]
     },
     "execution_count": 76,
     "metadata": {},
     "output_type": "execute_result"
    }
   ],
   "source": [
    "data_final.isna().sum().to_frame(name='na_cnt')"
   ]
  },
  {
   "cell_type": "code",
   "execution_count": 77,
   "metadata": {},
   "outputs": [
    {
     "data": {
      "text/plain": [
       "True"
      ]
     },
     "execution_count": 77,
     "metadata": {},
     "output_type": "execute_result"
    }
   ],
   "source": [
    "(pd.concat([cnr1.id,cnr2.id,cnr3.id]).shape[0] + data_final.id.nunique()) == data0.id.nunique()"
   ]
  },
  {
   "cell_type": "code",
   "execution_count": 78,
   "metadata": {},
   "outputs": [
    {
     "data": {
      "text/html": [
       "<div>\n",
       "<style scoped>\n",
       "    .dataframe tbody tr th:only-of-type {\n",
       "        vertical-align: middle;\n",
       "    }\n",
       "\n",
       "    .dataframe tbody tr th {\n",
       "        vertical-align: top;\n",
       "    }\n",
       "\n",
       "    .dataframe thead th {\n",
       "        text-align: right;\n",
       "    }\n",
       "</style>\n",
       "<table border=\"1\" class=\"dataframe\">\n",
       "  <thead>\n",
       "    <tr style=\"text-align: right;\">\n",
       "      <th></th>\n",
       "      <th>id</th>\n",
       "      <th>total_rnk_new</th>\n",
       "      <th>total_rnk</th>\n",
       "    </tr>\n",
       "  </thead>\n",
       "  <tbody>\n",
       "    <tr>\n",
       "      <th>168</th>\n",
       "      <td>2290_2021-09-14</td>\n",
       "      <td>2</td>\n",
       "      <td>3</td>\n",
       "    </tr>\n",
       "  </tbody>\n",
       "</table>\n",
       "</div>"
      ],
      "text/plain": [
       "                  id  total_rnk_new  total_rnk\n",
       "168  2290_2021-09-14              2          3"
      ]
     },
     "execution_count": 78,
     "metadata": {},
     "output_type": "execute_result"
    }
   ],
   "source": [
    "check1 = data_final.groupby(['id'])['seat_rnk'].nunique().reset_index(name='total_rnk_new')\n",
    "check2 = data0[['id','total_rnk']].drop_duplicates()\n",
    "check3 = check1.merge(check2, how='left')\n",
    "\n",
    "check3[check3['total_rnk_new']!=check3['total_rnk']]"
   ]
  },
  {
   "cell_type": "code",
   "execution_count": 79,
   "metadata": {},
   "outputs": [],
   "source": [
    "data_final.loc[data_final['id']=='2290_2021-09-14','total_rnk'] = 2  # 제외 좌석으로 인한 비일치"
   ]
  },
  {
   "cell_type": "code",
   "execution_count": 80,
   "metadata": {},
   "outputs": [],
   "source": [
    "data_final.to_csv('data_v4_1_cost_filled.csv', index=False)"
   ]
  },
  {
   "cell_type": "markdown",
   "metadata": {},
   "source": [
    "## data_fuck"
   ]
  },
  {
   "cell_type": "code",
   "execution_count": 81,
   "metadata": {},
   "outputs": [],
   "source": [
    "data_fuck = data0[(data0.id.isin(cnr1.id)) |\n",
    "                  (data0.id.isin(cnr2.id)) |\n",
    "                  (data0.id.isin(cnr3.id))]"
   ]
  },
  {
   "cell_type": "code",
   "execution_count": 82,
   "metadata": {},
   "outputs": [
    {
     "data": {
      "text/plain": [
       "(404512, 42)"
      ]
     },
     "execution_count": 82,
     "metadata": {},
     "output_type": "execute_result"
    }
   ],
   "source": [
    "data_fuck.shape"
   ]
  },
  {
   "cell_type": "code",
   "execution_count": 83,
   "metadata": {},
   "outputs": [
    {
     "data": {
      "text/plain": [
       "True"
      ]
     },
     "execution_count": 83,
     "metadata": {},
     "output_type": "execute_result"
    }
   ],
   "source": [
    "(data_fuck[['id','seat']].drop_duplicates().shape[0] + data_final[['id','seat']].drop_duplicates().shape[0]) == data0[['id','seat']].drop_duplicates().shape[0]"
   ]
  },
  {
   "cell_type": "code",
   "execution_count": 84,
   "metadata": {},
   "outputs": [],
   "source": [
    "data_fuck.to_csv('data_v4_2_cost_noise.csv', index=False)"
   ]
  }
 ],
 "metadata": {
  "kernelspec": {
   "display_name": "DEEP",
   "language": "python",
   "name": "python3"
  },
  "language_info": {
   "codemirror_mode": {
    "name": "ipython",
    "version": 3
   },
   "file_extension": ".py",
   "mimetype": "text/x-python",
   "name": "python",
   "nbconvert_exporter": "python",
   "pygments_lexer": "ipython3",
   "version": "3.10.11"
  },
  "orig_nbformat": 4
 },
 "nbformat": 4,
 "nbformat_minor": 2
}
