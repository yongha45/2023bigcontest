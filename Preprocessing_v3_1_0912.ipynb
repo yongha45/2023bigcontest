{
 "cells": [
  {
   "cell_type": "markdown",
   "metadata": {},
   "source": [
    "# BOF"
   ]
  },
  {
   "cell_type": "code",
   "execution_count": 1,
   "metadata": {},
   "outputs": [
    {
     "data": {
      "text/html": [
       "<style>\n",
       "    body {\n",
       "        --vscode-font-family: 'NanumGothic';\n",
       "        line-height: 1.5;\n",
       "        \n",
       "    }\n",
       "</style>\n"
      ],
      "text/plain": [
       "<IPython.core.display.HTML object>"
      ]
     },
     "metadata": {},
     "output_type": "display_data"
    }
   ],
   "source": [
    "%%html\n",
    "<style>\n",
    "    body {\n",
    "        --vscode-font-family: 'NanumGothic';\n",
    "        line-height: 1.5;\n",
    "        \n",
    "    }\n",
    "</style>"
   ]
  },
  {
   "cell_type": "code",
   "execution_count": 2,
   "metadata": {},
   "outputs": [
    {
     "name": "stdout",
     "output_type": "stream",
     "text": [
      "c:\\Users\\soono\\OneDrive\\_프로젝트_\\2023 BigContest\n"
     ]
    }
   ],
   "source": [
    "import os\n",
    "print(os.getcwd())\n",
    "\n",
    "import warnings\n",
    "warnings.filterwarnings(action='ignore') # 'default'\n",
    "\n",
    "import gc\n",
    "gc.collect()\n",
    "\n",
    "import pandas as pd\n",
    "# pd.set_option('display.max_rows', None) # pd.options.display.max_rows = 60\n",
    "pd.set_option('display.max_columns', None) # pd.options.display.max_columns = 20\n",
    "\n",
    "from IPython.core.interactiveshell import InteractiveShell\n",
    "InteractiveShell.ast_node_interactivity = 'last_expr' # 'all'\n",
    "\n",
    "from matplotlib import font_manager, rc\n",
    "font_path = 'C:/Windows/Fonts/NanumGothic.TTF'\n",
    "font_name = font_manager.FontProperties(fname = font_path).get_name()\n",
    "rc('font', family = font_name)\n",
    "\n",
    "import matplotlib.pyplot as plt\n",
    "plt.rcParams['axes.unicode_minus'] = False\n",
    "\n",
    "# %matplotlib inline"
   ]
  },
  {
   "cell_type": "code",
   "execution_count": 3,
   "metadata": {},
   "outputs": [],
   "source": [
    "import pandas as pd\n",
    "import numpy as np\n",
    "\n",
    "import matplotlib.pyplot as plt\n",
    "import seaborn as sns\n",
    "\n",
    "from tqdm import tqdm\n",
    "from tqdm import tqdm_notebook"
   ]
  },
  {
   "cell_type": "code",
   "execution_count": 4,
   "metadata": {},
   "outputs": [],
   "source": [
    "import re\n",
    "from datetime import datetime\n",
    "import holidays"
   ]
  },
  {
   "cell_type": "code",
   "execution_count": 5,
   "metadata": {},
   "outputs": [],
   "source": [
    "data = pd.read_csv('_데이터셋/2023빅콘테스트_어드밴스드리그_예술의전당.csv')"
   ]
  },
  {
   "cell_type": "code",
   "execution_count": 6,
   "metadata": {},
   "outputs": [],
   "source": [
    "data = data[data['place']=='콘서트홀'].reset_index(drop=True)"
   ]
  },
  {
   "cell_type": "code",
   "execution_count": 7,
   "metadata": {},
   "outputs": [],
   "source": [
    "data = data.drop_duplicates()"
   ]
  },
  {
   "cell_type": "markdown",
   "metadata": {},
   "source": [
    "# 기본적인 처리"
   ]
  },
  {
   "cell_type": "code",
   "execution_count": 8,
   "metadata": {},
   "outputs": [],
   "source": [
    "data = data.rename(columns={'performance_code':'code',\n",
    "                            'discount_type':'dc',\n",
    "                            'ticket_cancel':'cancel',\n",
    "                            'play_date':'date'})\n",
    "\n",
    "data['date'] = pd.to_datetime(data['date'], format='%Y%m%d')\n",
    "data['pre_open_date'] = pd.to_datetime(data['pre_open_date'], format='%Y%m%d')\n",
    "data['open_date'] = pd.to_datetime(data['open_date'], format='%Y%m%d')\n",
    "data['tran_date'] = pd.to_datetime(data['tran_date'], format='%Y%m%d')\n",
    "\n",
    "data['play_st_time'] = data['play_st_time'].apply(lambda x: str(x).zfill(4))\n",
    "data['play_st_time'] = pd.to_datetime(data['play_st_time'], format='%H%M').dt.strftime('%H:%M')\n",
    "data['tran_time'] = data['tran_time'].apply(lambda x: str(x).zfill(4))\n",
    "data['tran_time'] = pd.to_datetime(data['tran_time'], format='%H%M').dt.strftime('%H:%M')\n",
    "\n",
    "data['id'] = data['code'].astype(str) + '_' + data['date'].astype(str) # 식별자\n",
    "data['tran-open'] = (data['tran_date'] - data['open_date']).dt.days # 예매 시작일 - 예매 거래일\n",
    "data['tran_time_full'] = pd.to_datetime(data['tran_date'].astype(str) + ' ' + data['tran_time'].astype(str), format='%Y%m%d %H:%M') # 전체 예매 시각"
   ]
  },
  {
   "cell_type": "code",
   "execution_count": 9,
   "metadata": {},
   "outputs": [],
   "source": [
    "tmp = data.groupby('id')[['play_st_time']].nunique()\\\n",
    "    .pipe(lambda df: df[df['play_st_time']>1]).reset_index(drop=False)\n",
    "\n",
    "tmp = data[data['id'].isin(tmp.id)][['id','play_st_time']].drop_duplicates()\\\n",
    "    .sort_values(['id','play_st_time'])\\\n",
    "        .assign(i = [1,2] * len(tmp))\n",
    "tmp['id_2'] = tmp['id'] + '_' + tmp['i'].astype(str)\n",
    "\n",
    "data = pd.merge(data, tmp,\n",
    "                 how='left', on=['id','play_st_time'])\n",
    "data['id'] = np.where(~data['id_2'].isna(), data['id_2'], data['id'])\n",
    "data.drop(columns=['id_2','i'], inplace=True)"
   ]
  },
  {
   "cell_type": "markdown",
   "metadata": {},
   "source": [
    "# 멤버십 분해"
   ]
  },
  {
   "cell_type": "code",
   "execution_count": 10,
   "metadata": {},
   "outputs": [
    {
     "name": "stderr",
     "output_type": "stream",
     "text": [
      "100%|██████████| 6/6 [03:37<00:00, 36.17s/it]\n"
     ]
    }
   ],
   "source": [
    "unsigned_index = data[data.iloc[:,2:8].isna().all(axis=1)].index\n",
    "data['signed'] = 1\n",
    "data.loc[unsigned_index,'signed'] = 0\n",
    "data.loc[data['signed']==1,'member_yn'] = 'Y'\n",
    "data.loc[data['signed']==0,'member_yn'] = 'N'\n",
    "\n",
    "data.rename(columns={'membership_type_1':'m1',\n",
    "                     'membership_type_2':'m2',\n",
    "                     'membership_type_3':'m3',\n",
    "                     'membership_type_4':'m4',\n",
    "                     'membership_type_5':'m5',\n",
    "                     'membership_type_6':'m6'},\n",
    "            inplace=True)\n",
    "\n",
    "membership = ['골드','블루','그린','무료','싹틔우미','노블']\n",
    "for m in tqdm(membership, total=len(membership)):\n",
    "    data[m] = data.iloc[:,2:8].apply(lambda row: 1 if m in row.values else 0, axis=1)\n",
    "data.drop(columns=['m1','m2','m3','m4','m5','m6'], inplace=True)"
   ]
  },
  {
   "cell_type": "markdown",
   "metadata": {},
   "source": [
    "# 좌석 분해"
   ]
  },
  {
   "cell_type": "code",
   "execution_count": 11,
   "metadata": {},
   "outputs": [],
   "source": [
    "con_seat = data[['seat']]\n",
    "\n",
    "con_seat['floor'] = [s[0][:-1] for s in con_seat['seat'].str.split(' ')]\n",
    "con_seat.loc[con_seat.seat.str.startswith('합창'),'floor'] = '0' # 합창석\n",
    "con_seat['floor'] = con_seat['floor'].astype(int)\n",
    "\n",
    "con_seat['tmp'] = [s[1] for s in con_seat['seat'].str.split(' ')]\n",
    "con_seat['box'] = con_seat.loc[con_seat['tmp'].str.contains('BOX'),'tmp'].str[3:].astype(int)\n",
    "con_seat['block'] = con_seat.loc[con_seat['tmp'].str.contains('블록'),'tmp'].str[0]\n",
    "con_seat['col'] = con_seat.loc[con_seat['tmp'].str.contains('블록'),'tmp'].str[3:-1].astype(int)\n",
    "con_seat['seat_num'] = [s[-1] for s in con_seat['seat'].str.split(' ')]\n",
    "con_seat['seat_num'] = con_seat['seat_num'].astype(int)\n",
    "\n",
    "con_seat = con_seat.rename(columns={'tmp':'cost_id'})\n",
    "\n",
    "con_seat['cost_id_tmp'] = [s[3:] for s in con_seat['cost_id']]\n",
    "con_seat['cost_id_tmp'] = con_seat['cost_id_tmp'].str.replace(r'열', '', regex=True)\n",
    "con_seat['cost_id_tmp'] = con_seat['cost_id_tmp'].astype(int)\n",
    "con_seat['cost_id_tmp'] = con_seat['cost_id_tmp'].astype(str).str.zfill(2)\n",
    "\n",
    "con_seat['cost_id_final'] = [s[0][:3] + str(s[1]) for s in zip(con_seat['cost_id'], con_seat['cost_id_tmp'])]\n",
    "con_seat['cost_id_final'] = [s + '열' if '블록' in s else s for s in con_seat['cost_id_final']]\n",
    "\n",
    "con_seat = con_seat.drop(columns=['cost_id','cost_id_tmp'])\n",
    "con_seat = con_seat.rename(columns={'cost_id_final':'cost_id'})\n",
    "\n",
    "data[['floor','box','block','col','seat_num','cost_id']] = con_seat[['floor','box','block','col','seat_num','cost_id']]\n",
    "data.loc[data['cost_id'].str.contains('BOX'),'cost_id'] = 'BOX' # BOX석은 층별로만\n",
    "data['cost_id'] = data['code'].astype(str) + '_' + data['floor'].astype(str) + '층' + data['cost_id']"
   ]
  },
  {
   "cell_type": "markdown",
   "metadata": {},
   "source": [
    "# 취소표 전환"
   ]
  },
  {
   "cell_type": "code",
   "execution_count": 12,
   "metadata": {},
   "outputs": [],
   "source": [
    "df1 = data[data['cancel']==0].groupby(['id','seat']).size().reset_index(name='cnt')\\\n",
    "    .pipe(lambda df: df[df['cnt']>1]) # id-seat별로 cancel이 0인 행 중 중복행이 존재하는 경우\n",
    "df2 = pd.merge(df1, data[['id','seat','tran_time_full','cancel']].reset_index(),\n",
    "               how='left').set_index('index') # tran_time_full 추가\n",
    "df3 = df2.sort_values(by='tran_time_full', ascending=False).groupby(['id','seat']).head(1) # 가장 나중의 예매 현황\n",
    "df4 = df2[~df2.index.isin(df3.index)] # 가장 나중의 예매를 제외한 예매들\n",
    "data.loc[data.index.isin(df4.index),'cancel'] = 2 # 취소표로 전환"
   ]
  },
  {
   "cell_type": "markdown",
   "metadata": {},
   "source": [
    "# 객단가 추가"
   ]
  },
  {
   "cell_type": "code",
   "execution_count": 13,
   "metadata": {},
   "outputs": [],
   "source": [
    "data = data.reset_index(drop=False)\n",
    "\n",
    "data.loc[data['index']==546539,'dc'] = '골드회원 할인30%'\n",
    "data.loc[data['index']==609019,'dc'] = '골드회원 할인30%'\n",
    "data.loc[data['index']==943116,'dc'] = '골드회원 할인30%'\n",
    "data.loc[data['index']==1027653,'dc'] = '골드회원 할인30%'\n",
    "data.loc[data['index']==52919,'dc'] = '골드회원 할인15%'\n",
    "data.loc[data['index']==465011, 'dc'] = '골드회원 할인15%'\n",
    "\n",
    "data = data.drop(columns=['index'])"
   ]
  },
  {
   "cell_type": "code",
   "execution_count": 14,
   "metadata": {},
   "outputs": [],
   "source": [
    "cond = (data['dc'].isin(['21년 4분기 시즌패키지 추가구매(2매)20%','21년 4분기 시즌패키지 추가 구매(2매)20%'])) & (data['price'].isin([63000,84000,35000]))\n",
    "data.loc[cond,'dc'] = '21년 4분기 시즌패키지 추가구매(2매)30%'\n",
    "\n",
    "cond = (data['dc']=='21년 4분기 시즌패키지 추가 구매(2매)20%') & (data['price'].isin([49000,70000,28000]))\n",
    "data.loc[cond,'dc'] = '21년 4분기 시즌패키지 추가 구매(2매)30%'\n",
    "\n",
    "cond = (data['dc']=='골드회원 할인10%') & (data['price'].isin([35000,84000]))\n",
    "data.loc[cond,'dc'] = '골드회원 할인30%'\n",
    "\n",
    "cond = (data['dc']=='골드회원 할인10%') & (data['price'].isin([50000,65000]))\n",
    "data.loc[cond,'dc'] = '골드회원 할인50%'\n",
    "\n",
    "cond = (data['dc']=='골드회원 할인15%') & (data['price'].isin([14000,35000]))\n",
    "data.loc[cond,'dc'] = '골드회원 할인30%'\n",
    "\n",
    "cond = (data['dc'].str.contains('10%')) & (data['price']==70000)\n",
    "data.loc[cond,'price'] = 63000"
   ]
  },
  {
   "cell_type": "markdown",
   "metadata": {},
   "source": [
    "## Cost 1"
   ]
  },
  {
   "cell_type": "code",
   "execution_count": 15,
   "metadata": {},
   "outputs": [],
   "source": [
    "data['cost1'] = np.nan"
   ]
  },
  {
   "cell_type": "code",
   "execution_count": 16,
   "metadata": {},
   "outputs": [],
   "source": [
    "yh = pd.read_csv('_All_Price.csv')\n",
    "yh = yh.round(2)"
   ]
  },
  {
   "cell_type": "code",
   "execution_count": 17,
   "metadata": {},
   "outputs": [],
   "source": [
    "# dc로부터 percent를 추출하고, percent를 곱해서 만든 값을 cost1으로\n",
    "percent = data[['dc']].drop_duplicates()[data[['dc']].drop_duplicates().dc.str.endswith('%')]\n",
    "\n",
    "pattern = r'(\\d+%)'\n",
    "percent['percent'] = percent['dc'].apply(lambda x: re.findall(pattern, x)[0] if re.findall(pattern, x) else None)\n",
    "percent['percent'] = percent['percent'].str[:-1]\n",
    "percent['percent'] = percent['percent'].astype(int)\n",
    "percent['percent'] = percent['percent'] / 100\n",
    "data = pd.merge(data, percent,\n",
    "                how='left', on='dc').set_index(data.index)\n",
    "\n",
    "data['cost1'] = data['price'] / (1 - data['percent'])\n",
    "data.loc[data['dc']=='20,000원 할인','cost1'] = data.loc[data['dc']=='20,000원 할인','price'] + 20000\n",
    "data.loc[data['dc']=='골드회원 할인10%_','cost1'] = data.loc[data['dc']=='골드회원 할인10%_','price'] / (1 - 0.1)\n",
    "data.loc[data['dc']=='우리카드할인(1인1매)50%_','cost1'] = data.loc[data['dc']=='우리카드할인(1인1매)50%_','price'] / (1 - 0.5)\n",
    "\n",
    "data['cost1'] = data['cost1'].round(2)"
   ]
  },
  {
   "cell_type": "code",
   "execution_count": 18,
   "metadata": {},
   "outputs": [],
   "source": [
    "# dc가 일반이고 yh의 price에 존재하는 price는 그대로 cost1으로\n",
    "cond = (data['dc']=='일반') & (data['price'].isin(yh['price']))\n",
    "data.loc[cond,'cost1'] = data.loc[cond,'price']"
   ]
  },
  {
   "cell_type": "markdown",
   "metadata": {},
   "source": [
    "## Cost 2"
   ]
  },
  {
   "cell_type": "code",
   "execution_count": 19,
   "metadata": {},
   "outputs": [],
   "source": [
    "yhp = pd.DataFrame()\n",
    "for c in yh.columns[:-1]:\n",
    "    yhp = pd.concat([yhp, yh[c]], axis=0)\n",
    "\n",
    "yhp = yhp.reset_index(drop=False)\n",
    "yhp = yhp.rename(columns={0:'cost_van',\n",
    "                          'index':'row'})\n",
    "yhp['idx'] = [c for c in yh.columns[:-1] for _ in range(55)]\n",
    "yhp = yhp.set_index('idx') \n",
    "\n",
    "# cost1을 1000으로 나눴을 때 나머지가 남지 않으면 그대로 cost1을 사용해서 cost2로\n",
    "data['cost2'] = data['cost1']\n",
    "\n",
    "# cost1을 1000으로 나눴을 때 나머지가 남으면 yh의 price에 매핑해 cost2로 (special case 2개 제외)\n",
    "cond = yhp['cost_van'] % 1000 != 0 # yhp[cond][yhp.loc[cond,['cost_van']].duplicated(keep='last')]\n",
    "tmp1 = yhp[cond &\n",
    "           ~yhp['cost_van'].isin([64615.38,131666.67])] # special case 2개 제외\n",
    "tmp1 = tmp1.merge(yh['price'].reset_index(),\n",
    "                  how='left', left_on='row', right_on='index')\n",
    "tmp1_dict = dict(zip(tmp1['cost_van'], tmp1['price']))\n",
    "data['cost2'] = data['cost2'].replace(tmp1_dict)"
   ]
  },
  {
   "cell_type": "code",
   "execution_count": 20,
   "metadata": {},
   "outputs": [],
   "source": [
    "fifty = {14000:15000,\n",
    "         32000:33000,\n",
    "         34000:35000,\n",
    "         54000:55000,\n",
    "         64000:65000,\n",
    "         74000:75000,\n",
    "         76000:77000,\n",
    "         84000:85000,\n",
    "         94000:95000,\n",
    "         98000:99000}\n",
    "con = data['dc'].str.contains('50%')\n",
    "data.loc[con,'cost2'] = data.loc[con,'cost2'].replace(fifty)"
   ]
  },
  {
   "cell_type": "code",
   "execution_count": 21,
   "metadata": {},
   "outputs": [],
   "source": [
    "cond = (data['dc'].str.contains('40%')) & (data['cost2']==131666.67)\n",
    "data.loc[cond,'cost2'] = 132000\n",
    "\n",
    "cond = (data['dc'].str.contains('35%')) & (data['cost2']==64615.38)\n",
    "data.loc[cond,'cost2'] = 65000\n",
    "\n",
    "con = data['cost2']==77777.78\n",
    "data.loc[con,'price'] = 63000"
   ]
  },
  {
   "cell_type": "code",
   "execution_count": 22,
   "metadata": {},
   "outputs": [],
   "source": [
    "def nogada(frms, ts):\n",
    "    for i in range(len(frms)):\n",
    "        cond = (data['dc']=='일반') & (data['cost2']==ts[i])\n",
    "        ids = data[cond].id.unique()\n",
    "        \n",
    "        cond = (data.id.isin(ids)) & (data['cost2'].isin([frms[i],ts[i]]))\n",
    "        tmp = data[cond].groupby('id')[['cost2']].nunique().reset_index(drop=False)\n",
    "        \n",
    "        cond = (data['id'].isin(tmp.id)) & (data['cost2'] == frms[i])\n",
    "        data.loc[cond,'cost2'] = ts[i]\n",
    "\n",
    "nogada(frms=[44000,65000,75000,120000,130000,132000], ts=[45000,66000,77000,121000,132000,133000])"
   ]
  },
  {
   "cell_type": "code",
   "execution_count": 23,
   "metadata": {},
   "outputs": [],
   "source": [
    "tmp = data.groupby('id')[['cost2']].nunique()\\\n",
    "    .pipe(lambda df: df[df['cost2']>5]).sort_values('cost2', ascending=False)\n",
    "data = data[~data['id'].isin(tmp.index)]"
   ]
  },
  {
   "cell_type": "code",
   "execution_count": 24,
   "metadata": {},
   "outputs": [],
   "source": [
    "data.drop(columns=['cost1'], inplace=True)\n",
    "data.rename(columns={'cost2':'cost'}, inplace=True)"
   ]
  },
  {
   "cell_type": "code",
   "execution_count": 25,
   "metadata": {},
   "outputs": [
    {
     "data": {
      "text/html": [
       "<div>\n",
       "<style scoped>\n",
       "    .dataframe tbody tr th:only-of-type {\n",
       "        vertical-align: middle;\n",
       "    }\n",
       "\n",
       "    .dataframe tbody tr th {\n",
       "        vertical-align: top;\n",
       "    }\n",
       "\n",
       "    .dataframe thead th {\n",
       "        text-align: right;\n",
       "    }\n",
       "</style>\n",
       "<table border=\"1\" class=\"dataframe\">\n",
       "  <thead>\n",
       "    <tr style=\"text-align: right;\">\n",
       "      <th></th>\n",
       "      <th>count</th>\n",
       "    </tr>\n",
       "    <tr>\n",
       "      <th>cost</th>\n",
       "      <th></th>\n",
       "    </tr>\n",
       "  </thead>\n",
       "  <tbody>\n",
       "    <tr>\n",
       "      <th>0</th>\n",
       "      <td>61</td>\n",
       "    </tr>\n",
       "    <tr>\n",
       "      <th>1</th>\n",
       "      <td>9</td>\n",
       "    </tr>\n",
       "    <tr>\n",
       "      <th>2</th>\n",
       "      <td>25</td>\n",
       "    </tr>\n",
       "    <tr>\n",
       "      <th>3</th>\n",
       "      <td>159</td>\n",
       "    </tr>\n",
       "    <tr>\n",
       "      <th>4</th>\n",
       "      <td>321</td>\n",
       "    </tr>\n",
       "    <tr>\n",
       "      <th>5</th>\n",
       "      <td>169</td>\n",
       "    </tr>\n",
       "  </tbody>\n",
       "</table>\n",
       "</div>"
      ],
      "text/plain": [
       "      count\n",
       "cost       \n",
       "0        61\n",
       "1         9\n",
       "2        25\n",
       "3       159\n",
       "4       321\n",
       "5       169"
      ]
     },
     "execution_count": 25,
     "metadata": {},
     "output_type": "execute_result"
    }
   ],
   "source": [
    "data.groupby('id')[['cost']].nunique()\\\n",
    "    .value_counts('cost').to_frame(name='count').sort_index()"
   ]
  },
  {
   "cell_type": "code",
   "execution_count": 26,
   "metadata": {},
   "outputs": [],
   "source": [
    "data = data[data['cost']!=0] # 83행 제외"
   ]
  },
  {
   "cell_type": "code",
   "execution_count": 27,
   "metadata": {},
   "outputs": [],
   "source": [
    "data.to_csv('data_v3_1_tmp1.csv', index=False)"
   ]
  },
  {
   "cell_type": "markdown",
   "metadata": {},
   "source": [
    "# 좌석 등급화"
   ]
  },
  {
   "cell_type": "code",
   "execution_count": 5,
   "metadata": {},
   "outputs": [],
   "source": [
    "data = pd.read_csv('data_v3_1_tmp1.csv')"
   ]
  },
  {
   "cell_type": "code",
   "execution_count": 6,
   "metadata": {},
   "outputs": [],
   "source": [
    "cr = data.drop_duplicates(['id','cost'])[['id','cost']]\n",
    "\n",
    "cr['cost_rnk'] = data.drop_duplicates(['id','cost']).sort_values(['id','cost']).groupby('id')[['cost']].rank(method='min')\n",
    "\n",
    "cr = cr.groupby('id')[['cost']].nunique()\\\n",
    "    .rename(columns={'cost':'cost_cnt'}).reset_index()\\\n",
    "        .merge(cr, how='left')"
   ]
  },
  {
   "cell_type": "code",
   "execution_count": 7,
   "metadata": {},
   "outputs": [
    {
     "data": {
      "text/html": [
       "<div>\n",
       "<style scoped>\n",
       "    .dataframe tbody tr th:only-of-type {\n",
       "        vertical-align: middle;\n",
       "    }\n",
       "\n",
       "    .dataframe tbody tr th {\n",
       "        vertical-align: top;\n",
       "    }\n",
       "\n",
       "    .dataframe thead th {\n",
       "        text-align: right;\n",
       "    }\n",
       "</style>\n",
       "<table border=\"1\" class=\"dataframe\">\n",
       "  <thead>\n",
       "    <tr style=\"text-align: right;\">\n",
       "      <th></th>\n",
       "      <th>id</th>\n",
       "      <th>cost_cnt</th>\n",
       "      <th>cost</th>\n",
       "      <th>cost_rnk</th>\n",
       "    </tr>\n",
       "  </thead>\n",
       "  <tbody>\n",
       "    <tr>\n",
       "      <th>0</th>\n",
       "      <td>1002_2019-06-23</td>\n",
       "      <td>4</td>\n",
       "      <td>NaN</td>\n",
       "      <td>NaN</td>\n",
       "    </tr>\n",
       "    <tr>\n",
       "      <th>1</th>\n",
       "      <td>1002_2019-06-23</td>\n",
       "      <td>4</td>\n",
       "      <td>120000.0</td>\n",
       "      <td>4.0</td>\n",
       "    </tr>\n",
       "    <tr>\n",
       "      <th>2</th>\n",
       "      <td>1002_2019-06-23</td>\n",
       "      <td>4</td>\n",
       "      <td>90000.0</td>\n",
       "      <td>3.0</td>\n",
       "    </tr>\n",
       "    <tr>\n",
       "      <th>3</th>\n",
       "      <td>1002_2019-06-23</td>\n",
       "      <td>4</td>\n",
       "      <td>50000.0</td>\n",
       "      <td>1.0</td>\n",
       "    </tr>\n",
       "    <tr>\n",
       "      <th>4</th>\n",
       "      <td>1002_2019-06-23</td>\n",
       "      <td>4</td>\n",
       "      <td>70000.0</td>\n",
       "      <td>2.0</td>\n",
       "    </tr>\n",
       "    <tr>\n",
       "      <th>...</th>\n",
       "      <td>...</td>\n",
       "      <td>...</td>\n",
       "      <td>...</td>\n",
       "      <td>...</td>\n",
       "    </tr>\n",
       "    <tr>\n",
       "      <th>3396</th>\n",
       "      <td>996_2022-11-05</td>\n",
       "      <td>4</td>\n",
       "      <td>NaN</td>\n",
       "      <td>NaN</td>\n",
       "    </tr>\n",
       "    <tr>\n",
       "      <th>3397</th>\n",
       "      <td>996_2022-11-05</td>\n",
       "      <td>4</td>\n",
       "      <td>55000.0</td>\n",
       "      <td>1.0</td>\n",
       "    </tr>\n",
       "    <tr>\n",
       "      <th>3398</th>\n",
       "      <td>996_2022-11-05</td>\n",
       "      <td>4</td>\n",
       "      <td>99000.0</td>\n",
       "      <td>3.0</td>\n",
       "    </tr>\n",
       "    <tr>\n",
       "      <th>3399</th>\n",
       "      <td>996_2022-11-05</td>\n",
       "      <td>4</td>\n",
       "      <td>121000.0</td>\n",
       "      <td>4.0</td>\n",
       "    </tr>\n",
       "    <tr>\n",
       "      <th>3400</th>\n",
       "      <td>996_2022-11-05</td>\n",
       "      <td>4</td>\n",
       "      <td>77000.0</td>\n",
       "      <td>2.0</td>\n",
       "    </tr>\n",
       "  </tbody>\n",
       "</table>\n",
       "<p>3401 rows × 4 columns</p>\n",
       "</div>"
      ],
      "text/plain": [
       "                   id  cost_cnt      cost  cost_rnk\n",
       "0     1002_2019-06-23         4       NaN       NaN\n",
       "1     1002_2019-06-23         4  120000.0       4.0\n",
       "2     1002_2019-06-23         4   90000.0       3.0\n",
       "3     1002_2019-06-23         4   50000.0       1.0\n",
       "4     1002_2019-06-23         4   70000.0       2.0\n",
       "...               ...       ...       ...       ...\n",
       "3396   996_2022-11-05         4       NaN       NaN\n",
       "3397   996_2022-11-05         4   55000.0       1.0\n",
       "3398   996_2022-11-05         4   99000.0       3.0\n",
       "3399   996_2022-11-05         4  121000.0       4.0\n",
       "3400   996_2022-11-05         4   77000.0       2.0\n",
       "\n",
       "[3401 rows x 4 columns]"
      ]
     },
     "execution_count": 7,
     "metadata": {},
     "output_type": "execute_result"
    }
   ],
   "source": [
    "cr"
   ]
  },
  {
   "cell_type": "code",
   "execution_count": 8,
   "metadata": {},
   "outputs": [],
   "source": [
    "cr['rnk'] = np.nan\n",
    "\n",
    "# Five\n",
    "rnk = {1:'C', 2:'B', 3:'A', 4:'S', 5:'R'}\n",
    "cr.loc[cr['cost_cnt']==5,'rnk'] = cr.loc[cr['cost_cnt']==5,'cost_rnk'].replace(rnk)\n",
    "\n",
    "# Four\n",
    "rnk = {1:'B', 2:'A', 3:'S', 4:'R'}\n",
    "cr.loc[cr['cost_cnt']==4,'rnk'] = cr.loc[cr['cost_cnt']==4,'cost_rnk'].replace(rnk)\n",
    "\n",
    "# Three\n",
    "rnk = {1:'A', 2:'S', 3:'R'}\n",
    "cr.loc[cr['cost_cnt']==3,'rnk'] = cr.loc[cr['cost_cnt']==3,'cost_rnk'].replace(rnk)\n",
    "\n",
    "# Two\n",
    "rnk = {1:'S', 2:'R'}\n",
    "cr.loc[cr['cost_cnt']==2,'rnk'] = cr.loc[cr['cost_cnt']==2,'cost_rnk'].replace(rnk)\n",
    "\n",
    "# One\n",
    "rnk = {1:'R'}\n",
    "cr.loc[cr['cost_cnt']==1,'rnk'] = cr.loc[cr['cost_cnt']==1,'cost_rnk'].replace(rnk)\n",
    "\n",
    "# Zero\n",
    "cr['rnk'] = cr['rnk'].fillna('N')"
   ]
  },
  {
   "cell_type": "code",
   "execution_count": 9,
   "metadata": {},
   "outputs": [],
   "source": [
    "cr = cr.drop(columns=['cost_rnk'])\n",
    "cr = cr.rename(columns={'cost_cnt':'total_rnk'})\n",
    "cr = cr.rename(columns={'rnk':'seat_rnk'})"
   ]
  },
  {
   "cell_type": "code",
   "execution_count": 10,
   "metadata": {},
   "outputs": [
    {
     "data": {
      "text/html": [
       "<div>\n",
       "<style scoped>\n",
       "    .dataframe tbody tr th:only-of-type {\n",
       "        vertical-align: middle;\n",
       "    }\n",
       "\n",
       "    .dataframe tbody tr th {\n",
       "        vertical-align: top;\n",
       "    }\n",
       "\n",
       "    .dataframe thead th {\n",
       "        text-align: right;\n",
       "    }\n",
       "</style>\n",
       "<table border=\"1\" class=\"dataframe\">\n",
       "  <thead>\n",
       "    <tr style=\"text-align: right;\">\n",
       "      <th></th>\n",
       "      <th>id</th>\n",
       "      <th>total_rnk</th>\n",
       "      <th>cost</th>\n",
       "      <th>seat_rnk</th>\n",
       "    </tr>\n",
       "  </thead>\n",
       "  <tbody>\n",
       "    <tr>\n",
       "      <th>0</th>\n",
       "      <td>1002_2019-06-23</td>\n",
       "      <td>4</td>\n",
       "      <td>NaN</td>\n",
       "      <td>N</td>\n",
       "    </tr>\n",
       "    <tr>\n",
       "      <th>1</th>\n",
       "      <td>1002_2019-06-23</td>\n",
       "      <td>4</td>\n",
       "      <td>120000.0</td>\n",
       "      <td>R</td>\n",
       "    </tr>\n",
       "    <tr>\n",
       "      <th>2</th>\n",
       "      <td>1002_2019-06-23</td>\n",
       "      <td>4</td>\n",
       "      <td>90000.0</td>\n",
       "      <td>S</td>\n",
       "    </tr>\n",
       "    <tr>\n",
       "      <th>3</th>\n",
       "      <td>1002_2019-06-23</td>\n",
       "      <td>4</td>\n",
       "      <td>50000.0</td>\n",
       "      <td>B</td>\n",
       "    </tr>\n",
       "    <tr>\n",
       "      <th>4</th>\n",
       "      <td>1002_2019-06-23</td>\n",
       "      <td>4</td>\n",
       "      <td>70000.0</td>\n",
       "      <td>A</td>\n",
       "    </tr>\n",
       "    <tr>\n",
       "      <th>...</th>\n",
       "      <td>...</td>\n",
       "      <td>...</td>\n",
       "      <td>...</td>\n",
       "      <td>...</td>\n",
       "    </tr>\n",
       "    <tr>\n",
       "      <th>3396</th>\n",
       "      <td>996_2022-11-05</td>\n",
       "      <td>4</td>\n",
       "      <td>NaN</td>\n",
       "      <td>N</td>\n",
       "    </tr>\n",
       "    <tr>\n",
       "      <th>3397</th>\n",
       "      <td>996_2022-11-05</td>\n",
       "      <td>4</td>\n",
       "      <td>55000.0</td>\n",
       "      <td>B</td>\n",
       "    </tr>\n",
       "    <tr>\n",
       "      <th>3398</th>\n",
       "      <td>996_2022-11-05</td>\n",
       "      <td>4</td>\n",
       "      <td>99000.0</td>\n",
       "      <td>S</td>\n",
       "    </tr>\n",
       "    <tr>\n",
       "      <th>3399</th>\n",
       "      <td>996_2022-11-05</td>\n",
       "      <td>4</td>\n",
       "      <td>121000.0</td>\n",
       "      <td>R</td>\n",
       "    </tr>\n",
       "    <tr>\n",
       "      <th>3400</th>\n",
       "      <td>996_2022-11-05</td>\n",
       "      <td>4</td>\n",
       "      <td>77000.0</td>\n",
       "      <td>A</td>\n",
       "    </tr>\n",
       "  </tbody>\n",
       "</table>\n",
       "<p>3401 rows × 4 columns</p>\n",
       "</div>"
      ],
      "text/plain": [
       "                   id  total_rnk      cost seat_rnk\n",
       "0     1002_2019-06-23          4       NaN        N\n",
       "1     1002_2019-06-23          4  120000.0        R\n",
       "2     1002_2019-06-23          4   90000.0        S\n",
       "3     1002_2019-06-23          4   50000.0        B\n",
       "4     1002_2019-06-23          4   70000.0        A\n",
       "...               ...        ...       ...      ...\n",
       "3396   996_2022-11-05          4       NaN        N\n",
       "3397   996_2022-11-05          4   55000.0        B\n",
       "3398   996_2022-11-05          4   99000.0        S\n",
       "3399   996_2022-11-05          4  121000.0        R\n",
       "3400   996_2022-11-05          4   77000.0        A\n",
       "\n",
       "[3401 rows x 4 columns]"
      ]
     },
     "execution_count": 10,
     "metadata": {},
     "output_type": "execute_result"
    }
   ],
   "source": [
    "cr"
   ]
  },
  {
   "cell_type": "code",
   "execution_count": 11,
   "metadata": {},
   "outputs": [],
   "source": [
    "data = data.merge(cr, how='left')"
   ]
  },
  {
   "cell_type": "markdown",
   "metadata": {},
   "source": [
    "# 할인 타입 정리"
   ]
  },
  {
   "cell_type": "code",
   "execution_count": 12,
   "metadata": {},
   "outputs": [],
   "source": [
    "data['dc_origin'] = data['dc']"
   ]
  },
  {
   "cell_type": "code",
   "execution_count": 13,
   "metadata": {},
   "outputs": [],
   "source": [
    "dcs = data.dc.unique()"
   ]
  },
  {
   "cell_type": "code",
   "execution_count": 14,
   "metadata": {},
   "outputs": [],
   "source": [
    "# 공연진행석 제외\n",
    "data = data[data['dc']!='공연진행석']\n",
    "dcs = dcs[dcs!='공연진행석']"
   ]
  },
  {
   "cell_type": "code",
   "execution_count": 15,
   "metadata": {},
   "outputs": [],
   "source": [
    "# 기획사, 초대권, 일반 #\n",
    "\n",
    "# 기획사\n",
    "tmp = data[(data.dc.str.contains('기획'))]\n",
    "data.loc[data.index.isin(tmp.index),'dc'] = '기획사할인'\n",
    "dcs = dcs[~np.isin(dcs, tmp.dc.unique())]\n",
    "\n",
    "# 초대권\n",
    "tmp = data[(data.dc.str.contains('초대'))]\n",
    "data.loc[data.index.isin(tmp.index),'dc'] = '초대권할인'\n",
    "dcs = dcs[~np.isin(dcs, tmp.dc.unique())]\n",
    "\n",
    "data.loc[data['dc']=='［초대권］','dc'] = '초대권'\n",
    "dcs = dcs[dcs!='초대권']\n",
    "\n",
    "# 일반\n",
    "tmp = data[(data.dc.str.contains('일반|일반석|일반판매석'))]\n",
    "data.loc[data.index.isin(tmp.index),'dc'] = '일반'\n",
    "dcs = dcs[~np.isin(dcs, tmp.dc.unique())]"
   ]
  },
  {
   "cell_type": "code",
   "execution_count": 16,
   "metadata": {},
   "outputs": [],
   "source": [
    "# 회원 관련 #\n",
    "\n",
    "# 정기회원\n",
    "tmp = data[(data.dc.str.contains('정기회원'))]\n",
    "data.loc[data.index.isin(tmp.index),'dc'] = '정기회원할인'\n",
    "dcs = dcs[~np.isin(dcs, tmp.dc.unique())]\n",
    "\n",
    "# 유료회원\n",
    "tmp = data[(data.dc.str.contains('유료회원')) &\n",
    "           ~(data.dc.str.contains('국립합창단'))]\n",
    "data.loc[data.index.isin(tmp.index),'dc'] = '유료회원할인'\n",
    "dcs = dcs[~np.isin(dcs, tmp.dc.unique())]\n",
    "\n",
    "tmp = data[(data.dc.str.contains('법인'))]\n",
    "data.loc[data.index.isin(tmp.index),'dc'] = '골드법인할인'\n",
    "dcs = dcs[~np.isin(dcs, tmp.dc.unique())]\n",
    "\n",
    "tmp = data[(data.dc.str.contains('골드')) &\n",
    "           ~(data.dc.str.contains('법인'))]\n",
    "data.loc[data.index.isin(tmp.index),'dc'] = '골드할인'\n",
    "dcs = dcs[~np.isin(dcs, tmp.dc.unique())]\n",
    "\n",
    "tmp = data[(data.dc.str.contains('블루'))]\n",
    "data.loc[data.index.isin(tmp.index),'dc'] = '블루할인'\n",
    "dcs = dcs[~np.isin(dcs, tmp.dc.unique())]\n",
    "\n",
    "tmp = data[(data.dc.str.contains('그린'))]\n",
    "data.loc[data.index.isin(tmp.index),'dc'] = '그린할인'\n",
    "dcs = dcs[~np.isin(dcs, tmp.dc.unique())]\n",
    "\n",
    "# 무료회원\n",
    "tmp = data[(data.dc.str.contains('싹틔우미'))]\n",
    "data.loc[data.index.isin(tmp.index),'dc'] = '싹틔우미할인'\n",
    "dcs = dcs[~np.isin(dcs, tmp.dc.unique())]\n",
    "\n",
    "tmp = data[(data.dc.str.contains('노블'))]\n",
    "data.loc[data.index.isin(tmp.index),'dc'] = '노블할인'\n",
    "dcs = dcs[~np.isin(dcs, tmp.dc.unique())]"
   ]
  },
  {
   "cell_type": "code",
   "execution_count": 17,
   "metadata": {},
   "outputs": [],
   "source": [
    "# 사람 관련 #\n",
    "\n",
    "# 학생\n",
    "tmp = data[(data.dc.str.contains('초|중|고|대|학생|청소년|수험')) &\n",
    "           ~(data.dc.str.contains('장애|중앙|박규희|정기|초대|지방|보고|우대|카드|대전'))]\n",
    "data.loc[data.index.isin(tmp.index),'dc'] = '학생할인'\n",
    "dcs = dcs[~np.isin(dcs, tmp.dc.unique())]\n",
    "\n",
    "# 청년\n",
    "tmp = data[(data.dc.str.contains('청년|29세'))]\n",
    "data.loc[data.index.isin(tmp.index),'dc'] = '청년할인'\n",
    "dcs = dcs[~np.isin(dcs, tmp.dc.unique())]\n",
    "\n",
    "# 경로\n",
    "tmp = data[(data.dc.str.contains('실버|65|경로|70'))]\n",
    "data.loc[data.index.isin(tmp.index),'dc'] = '경로할인'\n",
    "dcs = dcs[~np.isin(dcs, tmp.dc.unique())]\n",
    "\n",
    "# 군인\n",
    "tmp = data[(data.dc.str.contains('군인'))]\n",
    "data.loc[data.index.isin(tmp.index),'dc'] = '군인할인'\n",
    "dcs = dcs[~np.isin(dcs, tmp.dc.unique())]\n",
    "\n",
    "# 예비군\n",
    "tmp = data[(data.dc.str.contains('예비군'))]\n",
    "data.loc[data.index.isin(tmp.index),'dc'] = '예비군할인'\n",
    "dcs = dcs[~np.isin(dcs, tmp.dc.unique())]\n",
    "\n",
    "# 직장인\n",
    "tmp = data[(data.dc.str.contains('직장'))]\n",
    "data.loc[data.index.isin(tmp.index),'dc'] = '직장인할인'\n",
    "dcs = dcs[~np.isin(dcs, tmp.dc.unique())]\n",
    "\n",
    "# 임산부\n",
    "tmp = data[(data.dc.str.contains('임산'))]\n",
    "data.loc[data.index.isin(tmp.index),'dc'] = '임산부할인'\n",
    "dcs = dcs[~np.isin(dcs, tmp.dc.unique())]\n",
    "\n",
    "# 장애인/국가유공자\n",
    "tmp = data[(data.dc.str.contains('장애|국가|의상자|의사상자'))]\n",
    "data.loc[data.index.isin(tmp.index),'dc'] = '장애인/국가유공자할인'\n",
    "dcs = dcs[~np.isin(dcs, tmp.dc.unique())]\n",
    "\n",
    "# 가족\n",
    "tmp = data[(data.dc.str.contains('가족|패밀리'))]\n",
    "data.loc[data.index.isin(tmp.index),'dc'] = '가족할인'\n",
    "dcs = dcs[~np.isin(dcs, tmp.dc.unique())]\n",
    "\n",
    "# 예술인\n",
    "tmp = data[(data.dc.str.contains('예술|연주자'))]\n",
    "data.loc[data.index.isin(tmp.index),'dc'] = '예술인할인'\n",
    "dcs = dcs[~np.isin(dcs, tmp.dc.unique())]\n",
    "\n",
    "# 교직원\n",
    "tmp = data[(data.dc.str.contains('교직원'))]\n",
    "data.loc[data.index.isin(tmp.index),'dc'] = '교직원할인'\n",
    "dcs = dcs[~np.isin(dcs, tmp.dc.unique())]\n",
    "\n",
    "# 보건의료인\n",
    "tmp = data[(data.dc.str.contains('보건'))]\n",
    "data.loc[data.index.isin(tmp.index),'dc'] = '의료인할인'\n",
    "dcs = dcs[~np.isin(dcs, tmp.dc.unique())]\n",
    "\n",
    "# 마니아\n",
    "tmp = data[(data.dc.str.contains('마니아|30주년'))]\n",
    "data.loc[data.index.isin(tmp.index),'dc'] = '마니아할인'\n",
    "dcs = dcs[~np.isin(dcs, tmp.dc.unique())]"
   ]
  },
  {
   "cell_type": "code",
   "execution_count": 18,
   "metadata": {},
   "outputs": [],
   "source": [
    "# 예매 관련 #\n",
    "\n",
    "# 얼리버드\n",
    "tmp = data[(data.dc.str.contains('조기|얼리'))]\n",
    "data.loc[data.index.isin(tmp.index),'dc'] = '조기예매할인'\n",
    "dcs = dcs[~np.isin(dcs, tmp.dc.unique())]\n",
    "\n",
    "# 당일\n",
    "tmp = data[(data.dc.str.contains('당일'))]\n",
    "data.loc[data.index.isin(tmp.index),'dc'] = '당일할인'\n",
    "dcs = dcs[~np.isin(dcs, tmp.dc.unique())]\n",
    "\n",
    "# 타임세일\n",
    "tmp = data[(data.dc.str.contains('타임'))]\n",
    "data.loc[data.index.isin(tmp.index),'dc'] = '타임세일'\n",
    "dcs = dcs[~np.isin(dcs, tmp.dc.unique())]\n",
    "\n",
    "# 단체\n",
    "tmp = data[(data.dc.str.contains('단체'))]\n",
    "data.loc[data.index.isin(tmp.index),'dc'] = '단체할인'\n",
    "dcs = dcs[~np.isin(dcs, tmp.dc.unique())]\n",
    "\n",
    "# 웰컴\n",
    "tmp = data[(data.dc.str.contains('웰컴|기구매|기관람'))]\n",
    "data.loc[data.index.isin(tmp.index),'dc'] = '웰컴할인'\n",
    "dcs = dcs[~np.isin(dcs, tmp.dc.unique())]\n",
    "\n",
    "# 재관람\n",
    "tmp = data[(data.dc.str.contains('재관람|재구매|재예매|보고'))]\n",
    "data.loc[data.index.isin(tmp.index),'dc'] = '재관람할인'\n",
    "dcs = dcs[~np.isin(dcs, tmp.dc.unique())]\n",
    "\n",
    "# 차액\n",
    "tmp = data[(data.dc.str.contains('차액'))]\n",
    "data.loc[data.index.isin(tmp.index),'dc'] = '차액할인'\n",
    "dcs = dcs[~np.isin(dcs, tmp.dc.unique())]\n",
    "\n",
    "# 예매권\n",
    "tmp = data[(data.dc.str.contains('예매권'))]\n",
    "data.loc[data.index.isin(tmp.index),'dc'] = '예매권할인'\n",
    "dcs = dcs[~np.isin(dcs, tmp.dc.unique())]\n",
    "\n",
    "# 카드\n",
    "tmp = data[(data.dc.str.contains('카드'))]\n",
    "data.loc[data.index.isin(tmp.index),'dc'] = '카드할인'\n",
    "dcs = dcs[~np.isin(dcs, tmp.dc.unique())]"
   ]
  },
  {
   "cell_type": "code",
   "execution_count": 19,
   "metadata": {},
   "outputs": [],
   "source": [
    "# 기관 (후원 회원) 관련 #\n",
    "\n",
    "# 후원회원\n",
    "tmp = data[(data.dc.str.contains('후원회원')) &\n",
    "           ~(data.dc.str.contains('KBS'))]\n",
    "data.loc[data.index.isin(tmp.index),'dc'] = '후원회원할인'\n",
    "dcs = dcs[~np.isin(dcs, tmp.dc.unique())]\n",
    "\n",
    "# 단원\n",
    "tmp = data[(data.dc.str.contains('단원'))]\n",
    "data.loc[data.index.isin(tmp.index),'dc'] = '단원할인'\n",
    "dcs = dcs[~np.isin(dcs, tmp.dc.unique())]\n",
    "\n",
    "# 국립합창단 유료회원\n",
    "tmp = data[(data.dc.str.contains('국립'))]\n",
    "data.loc[data.index.isin(tmp.index),'dc'] = '국립합창단유료회원할인'\n",
    "dcs = dcs[~np.isin(dcs, tmp.dc.unique())]\n",
    "\n",
    "# KBS 교향악단\n",
    "tmp = data[(data.dc.str.contains('Lang|lang'))]\n",
    "data.loc[data.index.isin(tmp.index),'dc'] = 'KLang할인'\n",
    "dcs = dcs[~np.isin(dcs, tmp.dc.unique())]\n",
    "\n",
    "# KBS 교향악단 후원회원\n",
    "tmp = data[(data.dc.str.contains('KBS'))]\n",
    "data.loc[data.index.isin(tmp.index),'dc'] = 'KBS교향악단후원회원할인'\n",
    "dcs = dcs[~np.isin(dcs, tmp.dc.unique())]\n",
    "\n",
    "# KOSYMI\n",
    "tmp = data[(data.dc.str.contains('KO'))]\n",
    "data.loc[data.index.isin(tmp.index),'dc'] = 'KOSYMI할인'\n",
    "dcs = dcs[~np.isin(dcs, tmp.dc.unique())]\n",
    "\n",
    "# 심포니회원\n",
    "tmp = data[(data.dc.str.contains('심포니'))]\n",
    "data.loc[data.index.isin(tmp.index),'dc'] = '심포니회원할인'\n",
    "dcs = dcs[~np.isin(dcs, tmp.dc.unique())]\n",
    "\n",
    "# 관계자\n",
    "tmp = data[(data.dc.str.contains('스탭|스텝|출연|관계|직원')) &\n",
    "           ~(data.dc.str.contains('교직원|시향|하비에르'))]\n",
    "data.loc[data.index.isin(tmp.index),'dc'] = '관계자할인'\n",
    "dcs = dcs[~np.isin(dcs, tmp.dc.unique())]"
   ]
  },
  {
   "cell_type": "code",
   "execution_count": 20,
   "metadata": {},
   "outputs": [],
   "source": [
    "# 공공기관 관련 #\n",
    "\n",
    "# 강남구\n",
    "tmp = data[(data.dc.str.contains('강남'))]\n",
    "data.loc[data.index.isin(tmp.index),'dc'] = '강남구할인'\n",
    "dcs = dcs[~np.isin(dcs, tmp.dc.unique())]\n",
    "\n",
    "# 경기도민\n",
    "tmp = data[(data.dc.str.contains('경기도민'))]\n",
    "data.loc[data.index.isin(tmp.index),'dc'] = '경기도민할인'\n",
    "dcs = dcs[~np.isin(dcs, tmp.dc.unique())]\n",
    "\n",
    "# 경기필\n",
    "tmp = data[(data.dc.str.contains('경기필'))]\n",
    "data.loc[data.index.isin(tmp.index),'dc'] = '경기필카톡친구할인'\n",
    "dcs = dcs[~np.isin(dcs, tmp.dc.unique())]\n",
    "\n",
    "# 문화릴레이\n",
    "tmp = data[(data.dc.str.contains('문화릴레이'))]\n",
    "data.loc[data.index.isin(tmp.index),'dc'] = '문화릴레이할인'\n",
    "dcs = dcs[~np.isin(dcs, tmp.dc.unique())]\n",
    "\n",
    "# 문화누리\n",
    "tmp = data[(data.dc.str.contains('문화누리'))]\n",
    "data.loc[data.index.isin(tmp.index),'dc'] = '문화누리할인'\n",
    "dcs = dcs[~np.isin(dcs, tmp.dc.unique())]\n",
    "\n",
    "# 문화햇살\n",
    "tmp = data[(data.dc.str.contains('문화햇살'))]\n",
    "data.loc[data.index.isin(tmp.index),'dc'] = '문화햇살할인'\n",
    "dcs = dcs[~np.isin(dcs, tmp.dc.unique())]"
   ]
  },
  {
   "cell_type": "code",
   "execution_count": 21,
   "metadata": {},
   "outputs": [],
   "source": [
    "# 시기 관련 #\n",
    "\n",
    "# 시기\n",
    "tmp = data[(data.dc.str.contains('GOOD|가을|가정|발렌|신년|추석|여름방학|토끼|호랑이'))]\n",
    "data.loc[data.index.isin(tmp.index),'dc'] = '시기별특별할인'\n",
    "dcs = dcs[~np.isin(dcs, tmp.dc.unique())]\n",
    "\n",
    "# 연도별 분기(상하반기) 패키지 추가 구매\n",
    "tmp = data[(data.dc.str.contains('패키지')) &\n",
    "           ~(data.dc.str.contains('호두까기'))]\n",
    "data.loc[data.index.isin(tmp.index),'dc'] = '분기패키지추가구매할인'\n",
    "dcs = dcs[~np.isin(dcs, tmp.dc.unique())]\n",
    "\n",
    "# 기념일\n",
    "tmp = data[(data.dc.str.contains('화이트데이'))]\n",
    "data.loc[data.index.isin(tmp.index),'dc'] = '기념일할인'\n",
    "dcs = dcs[~np.isin(dcs, tmp.dc.unique())]\n",
    "\n",
    "# 코로나\n",
    "tmp = data[(data.dc.str.contains('코로나|백신'))]\n",
    "data.loc[data.index.isin(tmp.index),'dc'] = '코로나할인'\n",
    "dcs = dcs[~np.isin(dcs, tmp.dc.unique())]"
   ]
  },
  {
   "cell_type": "code",
   "execution_count": 22,
   "metadata": {},
   "outputs": [],
   "source": [
    "# 공연 관련 #\n",
    "\n",
    "# 음악가\n",
    "tmp = data[(data.dc.str.contains('라흐마니|전곡|베토벤|박규희'))]\n",
    "data.loc[data.index.isin(tmp.index),'dc'] = '음악가특별할인'\n",
    "dcs = dcs[~np.isin(dcs, tmp.dc.unique())]\n",
    "\n",
    "# 호두까기인형\n",
    "tmp = data[(data.dc.str.contains('호두까기'))]\n",
    "data.loc[data.index.isin(tmp.index),'dc'] = '호두까기인형할인'\n",
    "dcs = dcs[~np.isin(dcs, tmp.dc.unique())]"
   ]
  },
  {
   "cell_type": "code",
   "execution_count": 23,
   "metadata": {},
   "outputs": [],
   "source": [
    "# 특별 (이벤트 및 제휴 기관 회원 멤버십) 관련 #\n",
    "\n",
    "# 특별\n",
    "tmp = data[(data.dc.str.contains('특별'))]\n",
    "data.loc[data.index.isin(tmp.index),'dc'] = '기타특별할인'\n",
    "dcs = dcs[~np.isin(dcs, tmp.dc.unique())]\n",
    "\n",
    "# 쿠폰\n",
    "tmp = data[(data.dc.str.contains('쿠폰'))]\n",
    "data.loc[data.index.isin(tmp.index),'dc'] = '쿠폰할인'\n",
    "dcs = dcs[~np.isin(dcs, tmp.dc.unique())]\n",
    "\n",
    "# 이벤트 및 제휴 기관 회원 멤버십\n",
    "tmp = data[(data.dc.str.contains('또모|코심|서포터즈|기부|주보|H-Point|하비에르|다이내믹|도서|클립서비스|아이랑노랑|블랙프라이데이|콘서트|코코프렌즈|카카오톡|KT멤버십|멜론'))]\n",
    "data.loc[data.index.isin(tmp.index),'dc'] = '이벤트특별할인'\n",
    "dcs = dcs[~np.isin(dcs, tmp.dc.unique())]\n",
    "\n",
    "# 특정 유료 티켓\n",
    "tmp = data[(data.dc.str.contains('티켓'))]\n",
    "data.loc[data.index.isin(tmp.index),'dc'] = '유료티켓소지할인'\n",
    "dcs = dcs[~np.isin(dcs, tmp.dc.unique())]\n",
    "\n",
    "# 홍보 (및 홍보진행석)\n",
    "tmp = data[(data.dc.str.contains('홍보|특판'))]\n",
    "data.loc[data.index.isin(tmp.index),'dc'] = '홍보할인'\n",
    "dcs = dcs[~np.isin(dcs, tmp.dc.unique())]\n",
    "\n",
    "# 블라인드\n",
    "tmp = data[(data.dc.str.contains('블라인드'))]\n",
    "data.loc[data.index.isin(tmp.index),'dc'] = '블라인드할인'\n",
    "dcs = dcs[~np.isin(dcs, tmp.dc.unique())]"
   ]
  },
  {
   "cell_type": "code",
   "execution_count": 24,
   "metadata": {},
   "outputs": [],
   "source": [
    "# 기업 관련 #\n",
    "\n",
    "tmp = data[(data.dc.str.contains('한화|중앙일보|신한은행'))]\n",
    "data.loc[data.index.isin(tmp.index),'dc'] = '기업할인'\n",
    "dcs = dcs[~np.isin(dcs, tmp.dc.unique())]\n",
    "\n",
    "tmp = data[(data.dc.str.contains('신세계석|기업석|KT석'))]\n",
    "data.loc[data.index.isin(tmp.index),'dc'] = '기업석'\n",
    "dcs = dcs[~np.isin(dcs, tmp.dc.unique())]"
   ]
  },
  {
   "cell_type": "code",
   "execution_count": 25,
   "metadata": {},
   "outputs": [
    {
     "data": {
      "text/plain": [
       "58"
      ]
     },
     "execution_count": 25,
     "metadata": {},
     "output_type": "execute_result"
    }
   ],
   "source": [
    "data.dc.nunique() # dcs"
   ]
  },
  {
   "cell_type": "code",
   "execution_count": 26,
   "metadata": {},
   "outputs": [
    {
     "data": {
      "image/png": "[encoded data removed]",
      "text/plain": [
       "<Figure size 1000x1500 with 1 Axes>"
      ]
     },
     "metadata": {},
     "output_type": "display_data"
    }
   ],
   "source": [
    "fig, ax = plt.subplots(figsize=(10,15))\n",
    "sns.countplot(y='dc', data=data, ax=ax,\n",
    "              order=data.dc.value_counts().index)\n",
    "plt.show()"
   ]
  },
  {
   "cell_type": "markdown",
   "metadata": {},
   "source": [
    "# 장르 정리"
   ]
  },
  {
   "cell_type": "code",
   "execution_count": 27,
   "metadata": {},
   "outputs": [],
   "source": [
    "data.loc[data['id']=='229_2022-11-20','genre'] = '교항곡'\n",
    "data.loc[data['id']=='2215_2019-07-14','genre'] = '클래식'\n",
    "\n",
    "data = data[~data['genre'].isna()]"
   ]
  },
  {
   "cell_type": "code",
   "execution_count": 28,
   "metadata": {},
   "outputs": [],
   "source": [
    "# genres = ['교향곡','클래식','합창','독주','성악','실내악','콘서트','오페라']\n",
    "# data['genre1'] = data['genre'].apply(lambda x: x if x in genres else '나머지')"
   ]
  },
  {
   "cell_type": "code",
   "execution_count": 29,
   "metadata": {},
   "outputs": [],
   "source": [
    "# data = data.rename(columns={'genre':'genre_old',\n",
    "#                             'genre1':'genre'})"
   ]
  },
  {
   "cell_type": "markdown",
   "metadata": {},
   "source": [
    "# 요일과 시간 보완"
   ]
  },
  {
   "cell_type": "code",
   "execution_count": 30,
   "metadata": {},
   "outputs": [],
   "source": [
    "# 요일과 시간\n",
    "data['play_weekday'] = pd.to_datetime(data['date']).dt.weekday\n",
    "# weekday_dict = {0:'Mon',\n",
    "#                 1:'Tue',\n",
    "#                 2:'Wed',\n",
    "#                 3:'Thu',\n",
    "#                 4:'Fri',\n",
    "#                 5:'Sat',\n",
    "#                 6:'Sun'}\n",
    "# data['play_weekday'] = data['play_weekday'].replace(weekday_dict)\n",
    "data['play_hour'] = pd.to_datetime(data['play_st_time']).dt.hour\n",
    "data['hour_cat'] = np.where(data['play_hour']<14, 'launch',\n",
    "                            np.where(data['play_hour']<19, 'afternoon', 'evening'))\n",
    "\n",
    "# 공휴일\n",
    "data['date'] = pd.to_datetime(data['date'])\n",
    "holi = holidays.KR(years=[2018,2019,2020,2021,2022,2023])\n",
    "data['holiday'] = np.where(data['date'].isin(holi), 1, 0)\n",
    "\n",
    "# 코로나 기간 여부 (2020.03.22~2022.04.18)\n",
    "data['date'] = pd.to_datetime(data['date'])\n",
    "data['covid'] = 0\n",
    "cond = (data['date']>=pd.to_datetime('2020-03-22')) & (data['date']<=pd.to_datetime('2022-04-18'))\n",
    "data.loc[cond,'covid'] =1 "
   ]
  },
  {
   "cell_type": "code",
   "execution_count": 31,
   "metadata": {},
   "outputs": [
    {
     "data": {
      "text/plain": [
       "Index(['age', 'gender', 'tran_date', 'tran_time', 'date', 'play_st_time',\n",
       "       'seat', 'price', 'cancel', 'dc', 'code', 'pre_open_date', 'open_date',\n",
       "       'genre', 'place', 'running_time', 'intermission', 'member_yn', 'id',\n",
       "       'tran-open', 'tran_time_full', 'signed', '골드', '블루', '그린', '무료', '싹틔우미',\n",
       "       '노블', 'floor', 'box', 'block', 'col', 'seat_num', 'cost_id', 'percent',\n",
       "       'cost', 'total_rnk', 'seat_rnk', 'dc_origin', 'play_weekday',\n",
       "       'play_hour', 'hour_cat', 'holiday', 'covid'],\n",
       "      dtype='object')"
      ]
     },
     "execution_count": 31,
     "metadata": {},
     "output_type": "execute_result"
    }
   ],
   "source": [
    "data.columns"
   ]
  },
  {
   "cell_type": "markdown",
   "metadata": {},
   "source": [
    "# EOF : Final Output [data_v3_1]"
   ]
  },
  {
   "cell_type": "code",
   "execution_count": 32,
   "metadata": {},
   "outputs": [],
   "source": [
    "data_final = data[['age','gender','골드','블루','그린','무료','싹틔우미','노블','member_yn',\n",
    "                   'id','code','date','genre','total_rnk','pre_open_date','open_date','play_st_time','play_weekday','hour_cat','holiday','covid','running_time','intermission',\n",
    "                   'seat','seat_rnk','dc','dc_origin','price','cost','floor','box','block','col','seat_num','cancel',\n",
    "                   'tran_date','tran_time','tran_time_full','tran-open']] # drop place, percent, cost_id, signed, play_hour"
   ]
  },
  {
   "cell_type": "code",
   "execution_count": 33,
   "metadata": {},
   "outputs": [
    {
     "name": "stdout",
     "output_type": "stream",
     "text": [
      "(1051394, 44) (1051394, 39)\n"
     ]
    }
   ],
   "source": [
    "print(data.shape, data_final.shape)"
   ]
  },
  {
   "cell_type": "code",
   "execution_count": 34,
   "metadata": {},
   "outputs": [],
   "source": [
    "data_final.to_csv('data_v3_1.csv', index=False)"
   ]
  },
  {
   "cell_type": "code",
   "execution_count": null,
   "metadata": {},
   "outputs": [],
   "source": []
  }
 ],
 "metadata": {
  "kernelspec": {
   "display_name": "bigcon",
   "language": "python",
   "name": "bigcon"
  },
  "language_info": {
   "codemirror_mode": {
    "name": "ipython",
    "version": 3
   },
   "file_extension": ".py",
   "mimetype": "text/x-python",
   "name": "python",
   "nbconvert_exporter": "python",
   "pygments_lexer": "ipython3",
   "version": "3.10.12"
  },
  "orig_nbformat": 4
 },
 "nbformat": 4,
 "nbformat_minor": 2
}
